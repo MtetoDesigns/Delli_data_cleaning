{
 "cells": [
  {
   "cell_type": "markdown",
   "metadata": {},
   "source": [
    "### Ticket 1: Data Preparation & Cleaning"
   ]
  },
  {
   "cell_type": "code",
   "execution_count": 334,
   "metadata": {},
   "outputs": [],
   "source": [
    "# Load libraries\n",
    "\n",
    "import pandas as pd\n",
    "import seaborn as sns\n",
    "import matplotlib.pyplot as plt\n",
    "import requests\n",
    "import re"
   ]
  },
  {
   "cell_type": "code",
   "execution_count": 335,
   "metadata": {},
   "outputs": [],
   "source": [
    "# Import dataset\n",
    "\n",
    "path = r\"C:\\Users\\ntomb\\Desktop\\Scrappy-20250215T170650Z-001\\Scrappy\\Scraped_files\\Delli_products.csv\"\n",
    "delli_df = pd.read_csv(path)\n",
    "\n",
    "# Make a copy\n",
    "\n",
    "df = delli_df.copy()\n",
    "\n",
    "pd.set_option('display.max_colwidth', None)"
   ]
  },
  {
   "cell_type": "code",
   "execution_count": 336,
   "metadata": {},
   "outputs": [
    {
     "data": {
      "text/html": [
       "<div>\n",
       "<style scoped>\n",
       "    .dataframe tbody tr th:only-of-type {\n",
       "        vertical-align: middle;\n",
       "    }\n",
       "\n",
       "    .dataframe tbody tr th {\n",
       "        vertical-align: top;\n",
       "    }\n",
       "\n",
       "    .dataframe thead th {\n",
       "        text-align: right;\n",
       "    }\n",
       "</style>\n",
       "<table border=\"1\" class=\"dataframe\">\n",
       "  <thead>\n",
       "    <tr style=\"text-align: right;\">\n",
       "      <th></th>\n",
       "      <th>name</th>\n",
       "      <th>price</th>\n",
       "      <th>url</th>\n",
       "    </tr>\n",
       "  </thead>\n",
       "  <tbody>\n",
       "    <tr>\n",
       "      <th>0</th>\n",
       "      <td>DELLI 'Start Here' Box</td>\n",
       "      <td>£32.00</td>\n",
       "      <td>/products/delli-start-here-box</td>\n",
       "    </tr>\n",
       "    <tr>\n",
       "      <th>1</th>\n",
       "      <td>'Nice And Spice' Box</td>\n",
       "      <td>£32.00</td>\n",
       "      <td>/products/the-nice-and-spice-box</td>\n",
       "    </tr>\n",
       "    <tr>\n",
       "      <th>2</th>\n",
       "      <td>Irn Bru &amp; Whisky Hot Sauce</td>\n",
       "      <td>£6.95</td>\n",
       "      <td>/products/irn-bru-whisky-hot-sauce</td>\n",
       "    </tr>\n",
       "    <tr>\n",
       "      <th>3</th>\n",
       "      <td>'Sugar, Spice &amp; All Things Nice' Box</td>\n",
       "      <td>£32.00</td>\n",
       "      <td>/products/sugar-spice-all-things-nice-box</td>\n",
       "    </tr>\n",
       "    <tr>\n",
       "      <th>4</th>\n",
       "      <td>Crispy Chicken Skin Sambal</td>\n",
       "      <td>£9.50</td>\n",
       "      <td>/products/mirin-crispy-chicken-skin-sambal</td>\n",
       "    </tr>\n",
       "  </tbody>\n",
       "</table>\n",
       "</div>"
      ],
      "text/plain": [
       "                                   name   price  \\\n",
       "0                DELLI 'Start Here' Box  £32.00   \n",
       "1                  'Nice And Spice' Box  £32.00   \n",
       "2            Irn Bru & Whisky Hot Sauce   £6.95   \n",
       "3  'Sugar, Spice & All Things Nice' Box  £32.00   \n",
       "4            Crispy Chicken Skin Sambal   £9.50   \n",
       "\n",
       "                                          url  \n",
       "0              /products/delli-start-here-box  \n",
       "1            /products/the-nice-and-spice-box  \n",
       "2          /products/irn-bru-whisky-hot-sauce  \n",
       "3   /products/sugar-spice-all-things-nice-box  \n",
       "4  /products/mirin-crispy-chicken-skin-sambal  "
      ]
     },
     "execution_count": 336,
     "metadata": {},
     "output_type": "execute_result"
    }
   ],
   "source": [
    "# Determine the first 5 itm on the dataframe\n",
    "\n",
    "df.head()"
   ]
  },
  {
   "cell_type": "code",
   "execution_count": 337,
   "metadata": {},
   "outputs": [
    {
     "data": {
      "text/html": [
       "<div>\n",
       "<style scoped>\n",
       "    .dataframe tbody tr th:only-of-type {\n",
       "        vertical-align: middle;\n",
       "    }\n",
       "\n",
       "    .dataframe tbody tr th {\n",
       "        vertical-align: top;\n",
       "    }\n",
       "\n",
       "    .dataframe thead th {\n",
       "        text-align: right;\n",
       "    }\n",
       "</style>\n",
       "<table border=\"1\" class=\"dataframe\">\n",
       "  <thead>\n",
       "    <tr style=\"text-align: right;\">\n",
       "      <th></th>\n",
       "      <th>Name</th>\n",
       "      <th>Price_GBP</th>\n",
       "      <th>Image_Url</th>\n",
       "    </tr>\n",
       "  </thead>\n",
       "  <tbody>\n",
       "    <tr>\n",
       "      <th>0</th>\n",
       "      <td>DELLI 'Start Here' Box</td>\n",
       "      <td>£32.00</td>\n",
       "      <td>https://delli.market/products/delli-start-here-box</td>\n",
       "    </tr>\n",
       "    <tr>\n",
       "      <th>1</th>\n",
       "      <td>'Nice And Spice' Box</td>\n",
       "      <td>£32.00</td>\n",
       "      <td>https://delli.market/products/the-nice-and-spice-box</td>\n",
       "    </tr>\n",
       "  </tbody>\n",
       "</table>\n",
       "</div>"
      ],
      "text/plain": [
       "                     Name Price_GBP  \\\n",
       "0  DELLI 'Start Here' Box    £32.00   \n",
       "1    'Nice And Spice' Box    £32.00   \n",
       "\n",
       "                                              Image_Url  \n",
       "0    https://delli.market/products/delli-start-here-box  \n",
       "1  https://delli.market/products/the-nice-and-spice-box  "
      ]
     },
     "execution_count": 337,
     "metadata": {},
     "output_type": "execute_result"
    }
   ],
   "source": [
    "# Change column name \n",
    "\n",
    "df.rename(columns={'name':'Name','price':'Price_GBP','url':'Image_Url'}, inplace=True)\n",
    "\n",
    "# concat https://delli.market/ to image url\n",
    "df[\"Image_Url\"] = \"https://delli.market\" + df[\"Image_Url\"]\n",
    "df.head(2)"
   ]
  },
  {
   "cell_type": "code",
   "execution_count": 338,
   "metadata": {},
   "outputs": [],
   "source": [
    "# Clean trailing whitespace and qoutes\n",
    "\n",
    "df['Name'] = df['Name'].str.replace('[\\'\"]', '', regex=True).str.strip()\n",
    "\n"
   ]
  },
  {
   "cell_type": "code",
   "execution_count": 339,
   "metadata": {},
   "outputs": [
    {
     "name": "stdout",
     "output_type": "stream",
     "text": [
      "<class 'pandas.core.frame.DataFrame'>\n",
      "RangeIndex: 610 entries, 0 to 609\n",
      "Data columns (total 3 columns):\n",
      " #   Column     Non-Null Count  Dtype  \n",
      "---  ------     --------------  -----  \n",
      " 0   Name       610 non-null    object \n",
      " 1   Price_GBP  443 non-null    float64\n",
      " 2   Image_Url  610 non-null    object \n",
      "dtypes: float64(1), object(2)\n",
      "memory usage: 14.4+ KB\n"
     ]
    }
   ],
   "source": [
    "# Remove £ on price and trailing whitespace\n",
    "\n",
    "df['Price_GBP'] = df['Price_GBP'].replace('£', '', regex=True).str.strip()\n",
    "\n",
    "# Convert price to nemeric for data analysis\n",
    "\n",
    "df['Price_GBP'] = pd.to_numeric(df['Price_GBP'], errors='coerce')\n",
    "df.info()"
   ]
  },
  {
   "cell_type": "code",
   "execution_count": 340,
   "metadata": {},
   "outputs": [
    {
     "name": "stdout",
     "output_type": "stream",
     "text": [
      "<class 'pandas.core.frame.DataFrame'>\n",
      "RangeIndex: 610 entries, 0 to 609\n",
      "Data columns (total 3 columns):\n",
      " #   Column     Non-Null Count  Dtype  \n",
      "---  ------     --------------  -----  \n",
      " 0   Name       610 non-null    object \n",
      " 1   Price_GBP  443 non-null    float64\n",
      " 2   Image_Url  610 non-null    object \n",
      "dtypes: float64(1), object(2)\n",
      "memory usage: 14.4+ KB\n"
     ]
    }
   ],
   "source": [
    "#  Determine Data type\n",
    "\n",
    "df.info()"
   ]
  },
  {
   "cell_type": "code",
   "execution_count": 341,
   "metadata": {},
   "outputs": [
    {
     "data": {
      "text/plain": [
       "Name           0\n",
       "Price_GBP    167\n",
       "Image_Url      0\n",
       "dtype: int64"
      ]
     },
     "execution_count": 341,
     "metadata": {},
     "output_type": "execute_result"
    }
   ],
   "source": [
    "# Determine if there are NaN values\n",
    "df.isna().sum()"
   ]
  },
  {
   "cell_type": "code",
   "execution_count": 342,
   "metadata": {},
   "outputs": [
    {
     "data": {
      "text/plain": [
       "Name         0\n",
       "Price_GBP    0\n",
       "Image_Url    0\n",
       "dtype: int64"
      ]
     },
     "execution_count": 342,
     "metadata": {},
     "output_type": "execute_result"
    }
   ],
   "source": [
    "# Fill NaN values with 0\n",
    "\n",
    "df['Price_GBP'] =  df['Price_GBP'].fillna(0)\n",
    "\n",
    "# confirm the results\n",
    "df.isna().sum()\n"
   ]
  },
  {
   "cell_type": "code",
   "execution_count": 343,
   "metadata": {},
   "outputs": [
    {
     "data": {
      "text/plain": [
       "False"
      ]
     },
     "execution_count": 343,
     "metadata": {},
     "output_type": "execute_result"
    }
   ],
   "source": [
    "# Check for duplicate column (There are 3 columns)\n",
    "# This check is deemed not necessary for columns that are are easily identifiable\n",
    "\n",
    "df.T.duplicated().any()"
   ]
  },
  {
   "cell_type": "code",
   "execution_count": 344,
   "metadata": {},
   "outputs": [
    {
     "data": {
      "text/plain": [
       "True"
      ]
     },
     "execution_count": 344,
     "metadata": {},
     "output_type": "execute_result"
    }
   ],
   "source": [
    "# Check for duplicate rows\n",
    "\n",
    "df.duplicated().any()"
   ]
  },
  {
   "cell_type": "code",
   "execution_count": 345,
   "metadata": {},
   "outputs": [
    {
     "data": {
      "text/plain": [
       "59"
      ]
     },
     "execution_count": 345,
     "metadata": {},
     "output_type": "execute_result"
    }
   ],
   "source": [
    "# Find the number duplicated rows\n",
    "\n",
    "df.duplicated().sum()"
   ]
  },
  {
   "cell_type": "code",
   "execution_count": 346,
   "metadata": {},
   "outputs": [
    {
     "data": {
      "text/html": [
       "<div>\n",
       "<style scoped>\n",
       "    .dataframe tbody tr th:only-of-type {\n",
       "        vertical-align: middle;\n",
       "    }\n",
       "\n",
       "    .dataframe tbody tr th {\n",
       "        vertical-align: top;\n",
       "    }\n",
       "\n",
       "    .dataframe thead th {\n",
       "        text-align: right;\n",
       "    }\n",
       "</style>\n",
       "<table border=\"1\" class=\"dataframe\">\n",
       "  <thead>\n",
       "    <tr style=\"text-align: right;\">\n",
       "      <th></th>\n",
       "      <th>Name</th>\n",
       "      <th>Price_GBP</th>\n",
       "    </tr>\n",
       "  </thead>\n",
       "  <tbody>\n",
       "    <tr>\n",
       "      <th>0</th>\n",
       "      <td>DELLI Start Here Box</td>\n",
       "      <td>32.00</td>\n",
       "    </tr>\n",
       "    <tr>\n",
       "      <th>1</th>\n",
       "      <td>Nice And Spice Box</td>\n",
       "      <td>32.00</td>\n",
       "    </tr>\n",
       "    <tr>\n",
       "      <th>2</th>\n",
       "      <td>Irn Bru &amp; Whisky Hot Sauce</td>\n",
       "      <td>6.95</td>\n",
       "    </tr>\n",
       "    <tr>\n",
       "      <th>4</th>\n",
       "      <td>Crispy Chicken Skin Sambal</td>\n",
       "      <td>9.50</td>\n",
       "    </tr>\n",
       "    <tr>\n",
       "      <th>6</th>\n",
       "      <td>Chilli Vinegar Dressing</td>\n",
       "      <td>7.80</td>\n",
       "    </tr>\n",
       "    <tr>\n",
       "      <th>...</th>\n",
       "      <td>...</td>\n",
       "      <td>...</td>\n",
       "    </tr>\n",
       "    <tr>\n",
       "      <th>570</th>\n",
       "      <td>When The Fish Came To Shore (Greek Cookbook) *Soft Cover*</td>\n",
       "      <td>25.00</td>\n",
       "    </tr>\n",
       "    <tr>\n",
       "      <th>573</th>\n",
       "      <td>Uno Mag Tomatoes (Cookbook-Magazine)</td>\n",
       "      <td>18.00</td>\n",
       "    </tr>\n",
       "    <tr>\n",
       "      <th>592</th>\n",
       "      <td>Uno Mag Tomatoes (Cookbook-Magazine)</td>\n",
       "      <td>18.00</td>\n",
       "    </tr>\n",
       "    <tr>\n",
       "      <th>595</th>\n",
       "      <td>When The Fish Came To Shore (Greek Cookbook) *Soft Cover*</td>\n",
       "      <td>25.00</td>\n",
       "    </tr>\n",
       "    <tr>\n",
       "      <th>606</th>\n",
       "      <td>‘Everyday Singapore Box, by Shu Han Lee</td>\n",
       "      <td>0.00</td>\n",
       "    </tr>\n",
       "  </tbody>\n",
       "</table>\n",
       "<p>112 rows × 2 columns</p>\n",
       "</div>"
      ],
      "text/plain": [
       "                                                          Name  Price_GBP\n",
       "0                                         DELLI Start Here Box      32.00\n",
       "1                                           Nice And Spice Box      32.00\n",
       "2                                   Irn Bru & Whisky Hot Sauce       6.95\n",
       "4                                   Crispy Chicken Skin Sambal       9.50\n",
       "6                                      Chilli Vinegar Dressing       7.80\n",
       "..                                                         ...        ...\n",
       "570  When The Fish Came To Shore (Greek Cookbook) *Soft Cover*      25.00\n",
       "573                       Uno Mag Tomatoes (Cookbook-Magazine)      18.00\n",
       "592                       Uno Mag Tomatoes (Cookbook-Magazine)      18.00\n",
       "595  When The Fish Came To Shore (Greek Cookbook) *Soft Cover*      25.00\n",
       "606                    ‘Everyday Singapore Box, by Shu Han Lee       0.00\n",
       "\n",
       "[112 rows x 2 columns]"
      ]
     },
     "execution_count": 346,
     "metadata": {},
     "output_type": "execute_result"
    }
   ],
   "source": [
    "# Display duplicated rows for name & price\n",
    "\n",
    "df.loc[df.duplicated(keep=False), ['Name','Price_GBP']]"
   ]
  },
  {
   "cell_type": "code",
   "execution_count": 347,
   "metadata": {},
   "outputs": [
    {
     "data": {
      "text/plain": [
       "False"
      ]
     },
     "execution_count": 347,
     "metadata": {},
     "output_type": "execute_result"
    }
   ],
   "source": [
    "\n",
    "# Remove duplicated rows\n",
    "\n",
    "def remove_duplicated_rows(df):\n",
    "    duplicated_rows = df.drop_duplicates(subset=['Name'], keep='first')\n",
    "    return duplicated_rows\n",
    "\n",
    "df = remove_duplicated_rows(df)\n",
    "\n",
    "# Check duplicated rows if still exist\n",
    "\n",
    "df.duplicated().any()"
   ]
  },
  {
   "cell_type": "markdown",
   "metadata": {},
   "source": [
    "### Ticket 2: Product Performance Analysis"
   ]
  },
  {
   "cell_type": "markdown",
   "metadata": {},
   "source": [
    "####  1. Statistics & Analysis:"
   ]
  },
  {
   "cell_type": "code",
   "execution_count": 348,
   "metadata": {},
   "outputs": [
    {
     "name": "stdout",
     "output_type": "stream",
     "text": [
      "Updated exchange rate: 1 GBP = 23.2480646795 ZAR\n"
     ]
    }
   ],
   "source": [
    "# convert price from UK pound to ZAR using API \n",
    "\n",
    "def update_currency_rates():\n",
    "    url = \"https://api.freecurrencyapi.com/v1/latest\"\n",
    "    params = {\n",
    "        \"apikey\": \"fca_live_aiBGvyBllycjXo5OJANIsyWL5iihpu0l6pEVlhNw\",\n",
    "        \"base_currency\": \"GBP\",\n",
    "        \"currencies\": \"ZAR\"\n",
    "    }\n",
    "    \n",
    "    response = requests.get(url, params=params)\n",
    "    \n",
    "    if response.status_code == 200:\n",
    "        data = response.json()\n",
    "        exchange_rate = data['data']['ZAR']\n",
    "        return exchange_rate\n",
    "    else:\n",
    "        print(f\"Error fetching exchange rate: {response.status_code}\")\n",
    "        return None\n",
    "\n",
    "def update_prices(df):\n",
    "    exchange_rate = update_currency_rates()\n",
    "    \n",
    "    if exchange_rate is not None:\n",
    "        df['Price_ZAR'] = (df['Price_GBP'] * exchange_rate).round(2)\n",
    "        print(f\"Updated exchange rate: 1 GBP = {exchange_rate} ZAR\")\n",
    "    else:\n",
    "        print(\"Failed to update prices. Using last known exchange rate.\")\n",
    "    \n",
    "    return df\n",
    "\n",
    "df = update_prices(df)"
   ]
  },
  {
   "cell_type": "code",
   "execution_count": 349,
   "metadata": {},
   "outputs": [],
   "source": [
    "# Determine the price ratio of Price_ZAR to Price_GBP\n",
    "\n",
    "df['Price_ratio'] = (df['Price_ZAR'] / df['Price_GBP']).round(2)"
   ]
  },
  {
   "cell_type": "code",
   "execution_count": 350,
   "metadata": {},
   "outputs": [
    {
     "data": {
      "text/html": [
       "<div>\n",
       "<style scoped>\n",
       "    .dataframe tbody tr th:only-of-type {\n",
       "        vertical-align: middle;\n",
       "    }\n",
       "\n",
       "    .dataframe tbody tr th {\n",
       "        vertical-align: top;\n",
       "    }\n",
       "\n",
       "    .dataframe thead th {\n",
       "        text-align: right;\n",
       "    }\n",
       "</style>\n",
       "<table border=\"1\" class=\"dataframe\">\n",
       "  <thead>\n",
       "    <tr style=\"text-align: right;\">\n",
       "      <th></th>\n",
       "      <th>Price_GBP</th>\n",
       "      <th>Price_ZAR</th>\n",
       "      <th>Price_ratio</th>\n",
       "    </tr>\n",
       "  </thead>\n",
       "  <tbody>\n",
       "    <tr>\n",
       "      <th>count</th>\n",
       "      <td>548.00</td>\n",
       "      <td>548.00</td>\n",
       "      <td>398.00</td>\n",
       "    </tr>\n",
       "    <tr>\n",
       "      <th>mean</th>\n",
       "      <td>8.84</td>\n",
       "      <td>205.61</td>\n",
       "      <td>23.25</td>\n",
       "    </tr>\n",
       "    <tr>\n",
       "      <th>std</th>\n",
       "      <td>10.06</td>\n",
       "      <td>233.91</td>\n",
       "      <td>0.00</td>\n",
       "    </tr>\n",
       "    <tr>\n",
       "      <th>min</th>\n",
       "      <td>0.00</td>\n",
       "      <td>0.00</td>\n",
       "      <td>23.25</td>\n",
       "    </tr>\n",
       "    <tr>\n",
       "      <th>25%</th>\n",
       "      <td>0.00</td>\n",
       "      <td>0.00</td>\n",
       "      <td>23.25</td>\n",
       "    </tr>\n",
       "    <tr>\n",
       "      <th>50%</th>\n",
       "      <td>6.20</td>\n",
       "      <td>144.14</td>\n",
       "      <td>23.25</td>\n",
       "    </tr>\n",
       "    <tr>\n",
       "      <th>75%</th>\n",
       "      <td>10.00</td>\n",
       "      <td>232.48</td>\n",
       "      <td>23.25</td>\n",
       "    </tr>\n",
       "    <tr>\n",
       "      <th>max</th>\n",
       "      <td>60.00</td>\n",
       "      <td>1394.88</td>\n",
       "      <td>23.25</td>\n",
       "    </tr>\n",
       "  </tbody>\n",
       "</table>\n",
       "</div>"
      ],
      "text/plain": [
       "       Price_GBP  Price_ZAR  Price_ratio\n",
       "count     548.00     548.00       398.00\n",
       "mean        8.84     205.61        23.25\n",
       "std        10.06     233.91         0.00\n",
       "min         0.00       0.00        23.25\n",
       "25%         0.00       0.00        23.25\n",
       "50%         6.20     144.14        23.25\n",
       "75%        10.00     232.48        23.25\n",
       "max        60.00    1394.88        23.25"
      ]
     },
     "execution_count": 350,
     "metadata": {},
     "output_type": "execute_result"
    }
   ],
   "source": [
    "df.describe().round(2)"
   ]
  },
  {
   "cell_type": "code",
   "execution_count": 351,
   "metadata": {},
   "outputs": [
    {
     "data": {
      "text/plain": [
       "Name         Sober Curious Warmers Box\n",
       "Price_GBP                         60.0\n",
       "Name: 472, dtype: object"
      ]
     },
     "execution_count": 351,
     "metadata": {},
     "output_type": "execute_result"
    }
   ],
   "source": [
    "# Determine the most expensive product\n",
    "\n",
    "Expensive_product = df.loc[df['Price_GBP'].idxmax(), ['Name','Price_GBP']]\n",
    "Expensive_product"
   ]
  },
  {
   "cell_type": "code",
   "execution_count": 352,
   "metadata": {},
   "outputs": [
    {
     "data": {
      "text/plain": [
       "Name         Snacking Pickles\n",
       "Price_GBP                 1.6\n",
       "Name: 8, dtype: object"
      ]
     },
     "execution_count": 352,
     "metadata": {},
     "output_type": "execute_result"
    }
   ],
   "source": [
    "# Filter for prices above 0; thereafter find the minimum price thereafter\n",
    "\n",
    "filtered_price = df[df['Price_GBP'] > 0]  \n",
    "\n",
    "# Determine the least expensive product\n",
    "\n",
    "cheap_product = filtered_price.loc[filtered_price['Price_GBP'].idxmin(), ['Name', 'Price_GBP']]\n",
    "cheap_product"
   ]
  },
  {
   "cell_type": "code",
   "execution_count": 353,
   "metadata": {},
   "outputs": [],
   "source": [
    "# Determine product price by category\n",
    "\n",
    "filtered_df = df[df['Price_GBP'] > 0]\n",
    "\n",
    "median_price = filtered_df['Price_GBP'].median()\n",
    "upper_quartile = filtered_df['Price_GBP'].quantile(0.75)\n",
    "\n",
    "def categorize_price(price):\n",
    "    if price <= 0:  \n",
    "        return 'Invalid'\n",
    "    elif price < median_price:\n",
    "        return 'Ordinary'\n",
    "    elif price < upper_quartile:\n",
    "        return 'High'\n",
    "    else:\n",
    "        return 'Exclusive'\n",
    "\n",
    "df['Category'] = df['Price_GBP'].apply(categorize_price)\n"
   ]
  },
  {
   "cell_type": "code",
   "execution_count": 354,
   "metadata": {},
   "outputs": [
    {
     "data": {
      "text/html": [
       "<div>\n",
       "<style scoped>\n",
       "    .dataframe tbody tr th:only-of-type {\n",
       "        vertical-align: middle;\n",
       "    }\n",
       "\n",
       "    .dataframe tbody tr th {\n",
       "        vertical-align: top;\n",
       "    }\n",
       "\n",
       "    .dataframe thead th {\n",
       "        text-align: right;\n",
       "    }\n",
       "</style>\n",
       "<table border=\"1\" class=\"dataframe\">\n",
       "  <thead>\n",
       "    <tr style=\"text-align: right;\">\n",
       "      <th></th>\n",
       "      <th>total_items</th>\n",
       "      <th>total_revenue_GBP</th>\n",
       "      <th>total_revenue_ZAR</th>\n",
       "    </tr>\n",
       "    <tr>\n",
       "      <th>Category</th>\n",
       "      <th></th>\n",
       "      <th></th>\n",
       "      <th></th>\n",
       "    </tr>\n",
       "  </thead>\n",
       "  <tbody>\n",
       "    <tr>\n",
       "      <th>Exclusive</th>\n",
       "      <td>100</td>\n",
       "      <td>2697.34</td>\n",
       "      <td>62707.85</td>\n",
       "    </tr>\n",
       "    <tr>\n",
       "      <th>High</th>\n",
       "      <td>107</td>\n",
       "      <td>1075.99</td>\n",
       "      <td>25014.57</td>\n",
       "    </tr>\n",
       "    <tr>\n",
       "      <th>Invalid</th>\n",
       "      <td>150</td>\n",
       "      <td>0.00</td>\n",
       "      <td>0.00</td>\n",
       "    </tr>\n",
       "    <tr>\n",
       "      <th>Ordinary</th>\n",
       "      <td>191</td>\n",
       "      <td>1073.34</td>\n",
       "      <td>24953.10</td>\n",
       "    </tr>\n",
       "  </tbody>\n",
       "</table>\n",
       "</div>"
      ],
      "text/plain": [
       "           total_items  total_revenue_GBP  total_revenue_ZAR\n",
       "Category                                                    \n",
       "Exclusive          100            2697.34           62707.85\n",
       "High               107            1075.99           25014.57\n",
       "Invalid            150               0.00               0.00\n",
       "Ordinary           191            1073.34           24953.10"
      ]
     },
     "execution_count": 354,
     "metadata": {},
     "output_type": "execute_result"
    }
   ],
   "source": [
    "# Determine total items per category & total revenue\n",
    "\n",
    "Category_analysis = df.groupby('Category').agg(\n",
    "    total_items=('Price_GBP', 'count'),\n",
    "    total_revenue_GBP=('Price_GBP', 'sum'),\n",
    "    total_revenue_ZAR = ('Price_ZAR','sum')\n",
    ")\n",
    "Category_analysis"
   ]
  },
  {
   "cell_type": "code",
   "execution_count": 355,
   "metadata": {},
   "outputs": [
    {
     "data": {
      "text/plain": [
       "4846.67"
      ]
     },
     "execution_count": 355,
     "metadata": {},
     "output_type": "execute_result"
    }
   ],
   "source": [
    "# Determine Total revenue\n",
    "\n",
    "Total_revenue = df['Price_GBP'].sum()\n",
    "Total_revenue "
   ]
  },
  {
   "cell_type": "code",
   "execution_count": 356,
   "metadata": {},
   "outputs": [
    {
     "data": {
      "text/html": [
       "<div>\n",
       "<style scoped>\n",
       "    .dataframe tbody tr th:only-of-type {\n",
       "        vertical-align: middle;\n",
       "    }\n",
       "\n",
       "    .dataframe tbody tr th {\n",
       "        vertical-align: top;\n",
       "    }\n",
       "\n",
       "    .dataframe thead th {\n",
       "        text-align: right;\n",
       "    }\n",
       "</style>\n",
       "<table border=\"1\" class=\"dataframe\">\n",
       "  <thead>\n",
       "    <tr style=\"text-align: right;\">\n",
       "      <th></th>\n",
       "      <th>Name</th>\n",
       "      <th>Price_GBP</th>\n",
       "      <th>Image_Url</th>\n",
       "      <th>Price_ZAR</th>\n",
       "      <th>Price_ratio</th>\n",
       "      <th>Category</th>\n",
       "    </tr>\n",
       "  </thead>\n",
       "  <tbody>\n",
       "    <tr>\n",
       "      <th>0</th>\n",
       "      <td>DELLI Start Here Box</td>\n",
       "      <td>32.00</td>\n",
       "      <td>https://delli.market/products/delli-start-here-box</td>\n",
       "      <td>743.94</td>\n",
       "      <td>23.25</td>\n",
       "      <td>Exclusive</td>\n",
       "    </tr>\n",
       "    <tr>\n",
       "      <th>1</th>\n",
       "      <td>Nice And Spice Box</td>\n",
       "      <td>32.00</td>\n",
       "      <td>https://delli.market/products/the-nice-and-spice-box</td>\n",
       "      <td>743.94</td>\n",
       "      <td>23.25</td>\n",
       "      <td>Exclusive</td>\n",
       "    </tr>\n",
       "    <tr>\n",
       "      <th>2</th>\n",
       "      <td>Irn Bru &amp; Whisky Hot Sauce</td>\n",
       "      <td>6.95</td>\n",
       "      <td>https://delli.market/products/irn-bru-whisky-hot-sauce</td>\n",
       "      <td>161.57</td>\n",
       "      <td>23.25</td>\n",
       "      <td>Ordinary</td>\n",
       "    </tr>\n",
       "    <tr>\n",
       "      <th>3</th>\n",
       "      <td>Sugar, Spice &amp; All Things Nice Box</td>\n",
       "      <td>32.00</td>\n",
       "      <td>https://delli.market/products/sugar-spice-all-things-nice-box</td>\n",
       "      <td>743.94</td>\n",
       "      <td>23.25</td>\n",
       "      <td>Exclusive</td>\n",
       "    </tr>\n",
       "    <tr>\n",
       "      <th>4</th>\n",
       "      <td>Crispy Chicken Skin Sambal</td>\n",
       "      <td>9.50</td>\n",
       "      <td>https://delli.market/products/mirin-crispy-chicken-skin-sambal</td>\n",
       "      <td>220.86</td>\n",
       "      <td>23.25</td>\n",
       "      <td>High</td>\n",
       "    </tr>\n",
       "  </tbody>\n",
       "</table>\n",
       "</div>"
      ],
      "text/plain": [
       "                                 Name  Price_GBP  \\\n",
       "0                DELLI Start Here Box      32.00   \n",
       "1                  Nice And Spice Box      32.00   \n",
       "2          Irn Bru & Whisky Hot Sauce       6.95   \n",
       "3  Sugar, Spice & All Things Nice Box      32.00   \n",
       "4          Crispy Chicken Skin Sambal       9.50   \n",
       "\n",
       "                                                        Image_Url  Price_ZAR  \\\n",
       "0              https://delli.market/products/delli-start-here-box     743.94   \n",
       "1            https://delli.market/products/the-nice-and-spice-box     743.94   \n",
       "2          https://delli.market/products/irn-bru-whisky-hot-sauce     161.57   \n",
       "3   https://delli.market/products/sugar-spice-all-things-nice-box     743.94   \n",
       "4  https://delli.market/products/mirin-crispy-chicken-skin-sambal     220.86   \n",
       "\n",
       "   Price_ratio   Category  \n",
       "0        23.25  Exclusive  \n",
       "1        23.25  Exclusive  \n",
       "2        23.25   Ordinary  \n",
       "3        23.25  Exclusive  \n",
       "4        23.25       High  "
      ]
     },
     "execution_count": 356,
     "metadata": {},
     "output_type": "execute_result"
    }
   ],
   "source": [
    "# Summary of a clean data & new columns added\n",
    "df.head()"
   ]
  },
  {
   "cell_type": "code",
   "execution_count": 357,
   "metadata": {},
   "outputs": [
    {
     "data": {
      "text/plain": [
       "(548, 6)"
      ]
     },
     "execution_count": 357,
     "metadata": {},
     "output_type": "execute_result"
    }
   ],
   "source": [
    "# summary of clean rows & columns\n",
    "\n",
    "df.shape"
   ]
  },
  {
   "cell_type": "markdown",
   "metadata": {},
   "source": [
    "#### 2. Visualizations:"
   ]
  },
  {
   "cell_type": "code",
   "execution_count": 358,
   "metadata": {},
   "outputs": [],
   "source": [
    "sns.set_style('dark')"
   ]
  },
  {
   "cell_type": "code",
   "execution_count": 359,
   "metadata": {},
   "outputs": [
    {
     "data": {
      "image/png": "[encoded data removed]",
      "text/plain": [
       "<Figure size 800x400 with 1 Axes>"
      ]
     },
     "metadata": {},
     "output_type": "display_data"
    }
   ],
   "source": [
    "# Determine price distribution\n",
    "\n",
    "price_counts = df['Price_GBP']\n",
    "\n",
    "plt.figure(figsize=(8,4))\n",
    "price_counts.plot(kind='hist',bins=15)\n",
    "plt.xlabel('Price Distribution')\n",
    "plt.xlabel('Price Distribution', labelpad=20)\n",
    "plt.show()\n"
   ]
  },
  {
   "cell_type": "code",
   "execution_count": 360,
   "metadata": {},
   "outputs": [
    {
     "data": {
      "image/png": "[encoded data removed]",
      "text/plain": [
       "<Figure size 800x400 with 1 Axes>"
      ]
     },
     "metadata": {},
     "output_type": "display_data"
    }
   ],
   "source": [
    "# Determine price distribution by category\n",
    "\n",
    "plt.figure(figsize=(8,4)) \n",
    " \n",
    "sns.boxplot( \n",
    "    data=df, \n",
    "    x='Category', \n",
    "    y='Price_GBP', \n",
    "    hue='Category',           \n",
    "    palette=['skyblue','lightgreen','salmon','orange'],   \n",
    "    dodge=False, \n",
    "    \n",
    ") \n",
    " \n",
    "plt.title('Price Distribution by Category') \n",
    "plt.xlabel('Category', labelpad=15)  \n",
    "plt.ylabel('Price_GBP') \n",
    "plt.show()"
   ]
  },
  {
   "cell_type": "code",
   "execution_count": 361,
   "metadata": {},
   "outputs": [
    {
     "data": {
      "image/png": "[encoded data removed]",
      "text/plain": [
       "<Figure size 800x400 with 1 Axes>"
      ]
     },
     "metadata": {},
     "output_type": "display_data"
    }
   ],
   "source": [
    "# Category analysis by class\n",
    "\n",
    "category = df['Category'].value_counts()\n",
    "\n",
    "plt.figure(figsize=(8,4))\n",
    "category.plot(kind='bar')\n",
    "plt.title('Category analysis by class')\n",
    "plt.ylabel('Frequency')\n",
    "plt.xlabel('Category')\n",
    "plt.xlabel('Category', labelpad=15)\n",
    "plt.xticks(rotation=45,ha='right')\n",
    "plt.show()"
   ]
  },
  {
   "cell_type": "code",
   "execution_count": 362,
   "metadata": {},
   "outputs": [
    {
     "data": {
      "text/html": [
       "<div>\n",
       "<style scoped>\n",
       "    .dataframe tbody tr th:only-of-type {\n",
       "        vertical-align: middle;\n",
       "    }\n",
       "\n",
       "    .dataframe tbody tr th {\n",
       "        vertical-align: top;\n",
       "    }\n",
       "\n",
       "    .dataframe thead th {\n",
       "        text-align: right;\n",
       "    }\n",
       "</style>\n",
       "<table border=\"1\" class=\"dataframe\">\n",
       "  <thead>\n",
       "    <tr style=\"text-align: right;\">\n",
       "      <th></th>\n",
       "      <th>Category</th>\n",
       "      <th>Price_GBP</th>\n",
       "    </tr>\n",
       "  </thead>\n",
       "  <tbody>\n",
       "    <tr>\n",
       "      <th>0</th>\n",
       "      <td>Exclusive</td>\n",
       "      <td>2697.34</td>\n",
       "    </tr>\n",
       "    <tr>\n",
       "      <th>1</th>\n",
       "      <td>High</td>\n",
       "      <td>1075.99</td>\n",
       "    </tr>\n",
       "    <tr>\n",
       "      <th>2</th>\n",
       "      <td>Invalid</td>\n",
       "      <td>0.00</td>\n",
       "    </tr>\n",
       "    <tr>\n",
       "      <th>3</th>\n",
       "      <td>Ordinary</td>\n",
       "      <td>1073.34</td>\n",
       "    </tr>\n",
       "  </tbody>\n",
       "</table>\n",
       "</div>"
      ],
      "text/plain": [
       "    Category  Price_GBP\n",
       "0  Exclusive    2697.34\n",
       "1       High    1075.99\n",
       "2    Invalid       0.00\n",
       "3   Ordinary    1073.34"
      ]
     },
     "execution_count": 362,
     "metadata": {},
     "output_type": "execute_result"
    }
   ],
   "source": [
    "# Revenue analysis by category\n",
    "\n",
    "revenue_category = df.groupby('Category')['Price_GBP'].sum().reset_index()\n",
    "revenue_category "
   ]
  },
  {
   "cell_type": "code",
   "execution_count": 363,
   "metadata": {},
   "outputs": [
    {
     "data": {
      "image/png": "[encoded data removed]",
      "text/plain": [
       "<Figure size 800x400 with 1 Axes>"
      ]
     },
     "metadata": {},
     "output_type": "display_data"
    }
   ],
   "source": [
    "# Category analysis by Revenue\n",
    "\n",
    "plt.figure(figsize=(8,4))\n",
    "sns.barplot(data=revenue_category, x='Category', y='Price_GBP')\n",
    "plt.title('Total Revenue by Category GBP')\n",
    "plt.xlabel('Category')\n",
    "plt.xlabel('Category', labelpad=15)\n",
    "plt.xticks(rotation=45,ha='right')\n",
    "plt.ylabel('Total Revenue GBP')\n",
    "plt.show()"
   ]
  },
  {
   "cell_type": "code",
   "execution_count": 364,
   "metadata": {},
   "outputs": [
    {
     "data": {
      "image/png": "[encoded data removed]",
      "text/plain": [
       "<Figure size 600x500 with 1 Axes>"
      ]
     },
     "metadata": {},
     "output_type": "display_data"
    }
   ],
   "source": [
    "# Determine category disribution by percentage\n",
    "\n",
    "category_counts = df['Category'].value_counts()\n",
    "\n",
    "plt.figure(figsize=(6,5))\n",
    "plt.pie(x=category_counts.values, labels=category_counts.index, \n",
    "        autopct='%1.1f%%', startangle=140)\n",
    "plt.title('Product Distribution by Category')\n",
    "plt.show()"
   ]
  },
  {
   "cell_type": "code",
   "execution_count": 365,
   "metadata": {},
   "outputs": [
    {
     "data": {
      "image/png": "[encoded data removed]",
      "text/plain": [
       "<Figure size 600x500 with 1 Axes>"
      ]
     },
     "metadata": {},
     "output_type": "display_data"
    }
   ],
   "source": [
    "# Determine category revenue by percentage\n",
    "\n",
    "revenue_category = df.groupby('Category')['Price_GBP'].sum().reset_index()\n",
    "\n",
    "plt.figure(figsize=(6,5))\n",
    "plt.pie(x=revenue_category['Price_GBP'], labels=revenue_category['Category'],\n",
    "        autopct='%1.1f%%', startangle=140)\n",
    "plt.title('Revenue Distribution by Category')\n",
    "        \n",
    "plt.show()"
   ]
  },
  {
   "cell_type": "code",
   "execution_count": null,
   "metadata": {},
   "outputs": [],
   "source": []
  }
 ],
 "metadata": {
  "kernelspec": {
   "display_name": "Python 3 (ipykernel)",
   "language": "python",
   "name": "python3"
  },
  "language_info": {
   "codemirror_mode": {
    "name": "ipython",
    "version": 3
   },
   "file_extension": ".py",
   "mimetype": "text/x-python",
   "name": "python",
   "nbconvert_exporter": "python",
   "pygments_lexer": "ipython3",
   "version": "3.11.5"
  }
 },
 "nbformat": 4,
 "nbformat_minor": 2
}
