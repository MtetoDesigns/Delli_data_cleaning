{
 "cells": [
  {
   "cell_type": "markdown",
   "metadata": {},
   "source": [
    "### Ticket 1: Data Preparation & Cleaning"
   ]
  },
  {
   "cell_type": "code",
   "execution_count": 170,
   "metadata": {},
   "outputs": [],
   "source": [
    "# Load libraries\n",
    "\n",
    "import pandas as pd\n",
    "import seaborn as sns\n",
    "import matplotlib.pyplot as plt\n",
    "import requests\n",
    "import re"
   ]
  },
  {
   "cell_type": "code",
   "execution_count": 171,
   "metadata": {},
   "outputs": [],
   "source": [
    "# Import dataset\n",
    "\n",
    "path = r\"C:\\Users\\ntomb\\Desktop\\Scrappy-20250215T170650Z-001\\Scrappy\\Scraped_files\\Delli_products.csv\"\n",
    "delli_df = pd.read_csv(path)\n",
    "\n",
    "# Make a copy\n",
    "\n",
    "df = delli_df.copy()"
   ]
  },
  {
   "cell_type": "code",
   "execution_count": 172,
   "metadata": {},
   "outputs": [
    {
     "data": {
      "text/html": [
       "<div>\n",
       "<style scoped>\n",
       "    .dataframe tbody tr th:only-of-type {\n",
       "        vertical-align: middle;\n",
       "    }\n",
       "\n",
       "    .dataframe tbody tr th {\n",
       "        vertical-align: top;\n",
       "    }\n",
       "\n",
       "    .dataframe thead th {\n",
       "        text-align: right;\n",
       "    }\n",
       "</style>\n",
       "<table border=\"1\" class=\"dataframe\">\n",
       "  <thead>\n",
       "    <tr style=\"text-align: right;\">\n",
       "      <th></th>\n",
       "      <th>name</th>\n",
       "      <th>price</th>\n",
       "      <th>url</th>\n",
       "    </tr>\n",
       "  </thead>\n",
       "  <tbody>\n",
       "    <tr>\n",
       "      <th>0</th>\n",
       "      <td>DELLI 'Start Here' Box</td>\n",
       "      <td>£32.00</td>\n",
       "      <td>/products/delli-start-here-box</td>\n",
       "    </tr>\n",
       "    <tr>\n",
       "      <th>1</th>\n",
       "      <td>'Nice And Spice' Box</td>\n",
       "      <td>£32.00</td>\n",
       "      <td>/products/the-nice-and-spice-box</td>\n",
       "    </tr>\n",
       "    <tr>\n",
       "      <th>2</th>\n",
       "      <td>Irn Bru &amp; Whisky Hot Sauce</td>\n",
       "      <td>£6.95</td>\n",
       "      <td>/products/irn-bru-whisky-hot-sauce</td>\n",
       "    </tr>\n",
       "    <tr>\n",
       "      <th>3</th>\n",
       "      <td>'Sugar, Spice &amp; All Things Nice' Box</td>\n",
       "      <td>£32.00</td>\n",
       "      <td>/products/sugar-spice-all-things-nice-box</td>\n",
       "    </tr>\n",
       "    <tr>\n",
       "      <th>4</th>\n",
       "      <td>Crispy Chicken Skin Sambal</td>\n",
       "      <td>£9.50</td>\n",
       "      <td>/products/mirin-crispy-chicken-skin-sambal</td>\n",
       "    </tr>\n",
       "  </tbody>\n",
       "</table>\n",
       "</div>"
      ],
      "text/plain": [
       "                                   name   price  \\\n",
       "0                DELLI 'Start Here' Box  £32.00   \n",
       "1                  'Nice And Spice' Box  £32.00   \n",
       "2            Irn Bru & Whisky Hot Sauce   £6.95   \n",
       "3  'Sugar, Spice & All Things Nice' Box  £32.00   \n",
       "4            Crispy Chicken Skin Sambal   £9.50   \n",
       "\n",
       "                                          url  \n",
       "0              /products/delli-start-here-box  \n",
       "1            /products/the-nice-and-spice-box  \n",
       "2          /products/irn-bru-whisky-hot-sauce  \n",
       "3   /products/sugar-spice-all-things-nice-box  \n",
       "4  /products/mirin-crispy-chicken-skin-sambal  "
      ]
     },
     "execution_count": 172,
     "metadata": {},
     "output_type": "execute_result"
    }
   ],
   "source": [
    "# Determine the first 5 itm on the dataframe\n",
    "\n",
    "df.head()"
   ]
  },
  {
   "cell_type": "code",
   "execution_count": 173,
   "metadata": {},
   "outputs": [
    {
     "data": {
      "text/plain": [
       "(610, 3)"
      ]
     },
     "execution_count": 173,
     "metadata": {},
     "output_type": "execute_result"
    }
   ],
   "source": [
    "# Determine the total number of rows and colums\n",
    "\n",
    "df.shape"
   ]
  },
  {
   "cell_type": "code",
   "execution_count": 174,
   "metadata": {},
   "outputs": [
    {
     "data": {
      "text/plain": [
       "0                  DELLI Start Here Box\n",
       "1                    Nice And Spice Box\n",
       "2            Irn Bru & Whisky Hot Sauce\n",
       "3    Sugar, Spice & All Things Nice Box\n",
       "4            Crispy Chicken Skin Sambal\n",
       "Name: name, dtype: object"
      ]
     },
     "execution_count": 174,
     "metadata": {},
     "output_type": "execute_result"
    }
   ],
   "source": [
    "# Clean trailing whitespace and qoutes\n",
    "\n",
    "df['name'] = df['name'].str.replace('[\\'\"]', '', regex=True).str.strip()\n",
    "df['name'].head()"
   ]
  },
  {
   "cell_type": "code",
   "execution_count": 175,
   "metadata": {},
   "outputs": [
    {
     "data": {
      "text/plain": [
       "0    32.00\n",
       "1    32.00\n",
       "2     6.95\n",
       "3    32.00\n",
       "4     9.50\n",
       "Name: price, dtype: object"
      ]
     },
     "execution_count": 175,
     "metadata": {},
     "output_type": "execute_result"
    }
   ],
   "source": [
    "# Remove £ on price and trailing whitespace\n",
    "\n",
    "df['price'] = df['price'].replace('£', '', regex=True).str.strip()\n",
    "df['price'].head()"
   ]
  },
  {
   "cell_type": "code",
   "execution_count": 176,
   "metadata": {},
   "outputs": [
    {
     "name": "stdout",
     "output_type": "stream",
     "text": [
      "<class 'pandas.core.frame.DataFrame'>\n",
      "RangeIndex: 610 entries, 0 to 609\n",
      "Data columns (total 3 columns):\n",
      " #   Column  Non-Null Count  Dtype \n",
      "---  ------  --------------  ----- \n",
      " 0   name    610 non-null    object\n",
      " 1   price   443 non-null    object\n",
      " 2   url     610 non-null    object\n",
      "dtypes: object(3)\n",
      "memory usage: 14.4+ KB\n"
     ]
    }
   ],
   "source": [
    "#  Determine Data type\n",
    "\n",
    "df.info()"
   ]
  },
  {
   "cell_type": "code",
   "execution_count": 177,
   "metadata": {},
   "outputs": [
    {
     "name": "stdout",
     "output_type": "stream",
     "text": [
      "<class 'pandas.core.frame.DataFrame'>\n",
      "RangeIndex: 610 entries, 0 to 609\n",
      "Data columns (total 3 columns):\n",
      " #   Column  Non-Null Count  Dtype  \n",
      "---  ------  --------------  -----  \n",
      " 0   name    610 non-null    object \n",
      " 1   price   443 non-null    float64\n",
      " 2   url     610 non-null    object \n",
      "dtypes: float64(1), object(2)\n",
      "memory usage: 14.4+ KB\n"
     ]
    }
   ],
   "source": [
    "# Convert price to nemeric for data analysis\n",
    "\n",
    "df['price'] = pd.to_numeric(df['price'], errors='coerce')\n",
    "df.info()\n"
   ]
  },
  {
   "cell_type": "code",
   "execution_count": 178,
   "metadata": {},
   "outputs": [
    {
     "data": {
      "text/plain": [
       "name       0\n",
       "price    167\n",
       "url        0\n",
       "dtype: int64"
      ]
     },
     "execution_count": 178,
     "metadata": {},
     "output_type": "execute_result"
    }
   ],
   "source": [
    "# Determine if there NaN values\n",
    "df.isna().sum()"
   ]
  },
  {
   "cell_type": "code",
   "execution_count": 179,
   "metadata": {},
   "outputs": [
    {
     "data": {
      "text/plain": [
       "name     0\n",
       "price    0\n",
       "url      0\n",
       "dtype: int64"
      ]
     },
     "execution_count": 179,
     "metadata": {},
     "output_type": "execute_result"
    }
   ],
   "source": [
    "# Fill NaN values with 0\n",
    "\n",
    "df['price'] =  df['price'].fillna(0)\n",
    "\n",
    "# confirm the results\n",
    "df.isna().sum()\n"
   ]
  },
  {
   "cell_type": "code",
   "execution_count": 180,
   "metadata": {},
   "outputs": [
    {
     "data": {
      "text/plain": [
       "False"
      ]
     },
     "execution_count": 180,
     "metadata": {},
     "output_type": "execute_result"
    }
   ],
   "source": [
    "# Check for duplicate column (There are 3 columns)\n",
    "# The check is deemed not necessary for columns are are easily identifiable\n",
    "\n",
    "df.T.duplicated().any()"
   ]
  },
  {
   "cell_type": "code",
   "execution_count": 181,
   "metadata": {},
   "outputs": [
    {
     "data": {
      "text/plain": [
       "True"
      ]
     },
     "execution_count": 181,
     "metadata": {},
     "output_type": "execute_result"
    }
   ],
   "source": [
    "# Check for duplicate rows\n",
    "\n",
    "df.duplicated().any()"
   ]
  },
  {
   "cell_type": "code",
   "execution_count": 182,
   "metadata": {},
   "outputs": [
    {
     "data": {
      "text/plain": [
       "59"
      ]
     },
     "execution_count": 182,
     "metadata": {},
     "output_type": "execute_result"
    }
   ],
   "source": [
    "# Find duplicate rows\n",
    "\n",
    "df.duplicated().sum()"
   ]
  },
  {
   "cell_type": "code",
   "execution_count": 183,
   "metadata": {},
   "outputs": [
    {
     "data": {
      "text/html": [
       "<div>\n",
       "<style scoped>\n",
       "    .dataframe tbody tr th:only-of-type {\n",
       "        vertical-align: middle;\n",
       "    }\n",
       "\n",
       "    .dataframe tbody tr th {\n",
       "        vertical-align: top;\n",
       "    }\n",
       "\n",
       "    .dataframe thead th {\n",
       "        text-align: right;\n",
       "    }\n",
       "</style>\n",
       "<table border=\"1\" class=\"dataframe\">\n",
       "  <thead>\n",
       "    <tr style=\"text-align: right;\">\n",
       "      <th></th>\n",
       "      <th>name</th>\n",
       "      <th>price</th>\n",
       "    </tr>\n",
       "  </thead>\n",
       "  <tbody>\n",
       "    <tr>\n",
       "      <th>0</th>\n",
       "      <td>DELLI Start Here Box</td>\n",
       "      <td>32.00</td>\n",
       "    </tr>\n",
       "    <tr>\n",
       "      <th>1</th>\n",
       "      <td>Nice And Spice Box</td>\n",
       "      <td>32.00</td>\n",
       "    </tr>\n",
       "    <tr>\n",
       "      <th>2</th>\n",
       "      <td>Irn Bru &amp; Whisky Hot Sauce</td>\n",
       "      <td>6.95</td>\n",
       "    </tr>\n",
       "    <tr>\n",
       "      <th>4</th>\n",
       "      <td>Crispy Chicken Skin Sambal</td>\n",
       "      <td>9.50</td>\n",
       "    </tr>\n",
       "    <tr>\n",
       "      <th>6</th>\n",
       "      <td>Chilli Vinegar Dressing</td>\n",
       "      <td>7.80</td>\n",
       "    </tr>\n",
       "    <tr>\n",
       "      <th>...</th>\n",
       "      <td>...</td>\n",
       "      <td>...</td>\n",
       "    </tr>\n",
       "    <tr>\n",
       "      <th>570</th>\n",
       "      <td>When The Fish Came To Shore (Greek Cookbook) *...</td>\n",
       "      <td>25.00</td>\n",
       "    </tr>\n",
       "    <tr>\n",
       "      <th>573</th>\n",
       "      <td>Uno Mag Tomatoes (Cookbook-Magazine)</td>\n",
       "      <td>18.00</td>\n",
       "    </tr>\n",
       "    <tr>\n",
       "      <th>592</th>\n",
       "      <td>Uno Mag Tomatoes (Cookbook-Magazine)</td>\n",
       "      <td>18.00</td>\n",
       "    </tr>\n",
       "    <tr>\n",
       "      <th>595</th>\n",
       "      <td>When The Fish Came To Shore (Greek Cookbook) *...</td>\n",
       "      <td>25.00</td>\n",
       "    </tr>\n",
       "    <tr>\n",
       "      <th>606</th>\n",
       "      <td>‘Everyday Singapore Box, by Shu Han Lee</td>\n",
       "      <td>0.00</td>\n",
       "    </tr>\n",
       "  </tbody>\n",
       "</table>\n",
       "<p>112 rows × 2 columns</p>\n",
       "</div>"
      ],
      "text/plain": [
       "                                                  name  price\n",
       "0                                 DELLI Start Here Box  32.00\n",
       "1                                   Nice And Spice Box  32.00\n",
       "2                           Irn Bru & Whisky Hot Sauce   6.95\n",
       "4                           Crispy Chicken Skin Sambal   9.50\n",
       "6                              Chilli Vinegar Dressing   7.80\n",
       "..                                                 ...    ...\n",
       "570  When The Fish Came To Shore (Greek Cookbook) *...  25.00\n",
       "573               Uno Mag Tomatoes (Cookbook-Magazine)  18.00\n",
       "592               Uno Mag Tomatoes (Cookbook-Magazine)  18.00\n",
       "595  When The Fish Came To Shore (Greek Cookbook) *...  25.00\n",
       "606            ‘Everyday Singapore Box, by Shu Han Lee   0.00\n",
       "\n",
       "[112 rows x 2 columns]"
      ]
     },
     "execution_count": 183,
     "metadata": {},
     "output_type": "execute_result"
    }
   ],
   "source": [
    "# Show duplicate rows under name\n",
    "\n",
    "df.loc[df.duplicated(keep=False), ['name','price']]"
   ]
  },
  {
   "cell_type": "code",
   "execution_count": 184,
   "metadata": {},
   "outputs": [
    {
     "data": {
      "text/plain": [
       "False"
      ]
     },
     "execution_count": 184,
     "metadata": {},
     "output_type": "execute_result"
    }
   ],
   "source": [
    "\n",
    "# The price is deemed normal to the same\n",
    "\n",
    "def remove_duplicated_rows(df):\n",
    "    duplicated_rows = df.drop_duplicates(subset=['name'], keep='first')\n",
    "    return duplicated_rows\n",
    "\n",
    "df = remove_duplicated_rows(df)\n",
    "\n",
    "# Check duplicated rows if still exist\n",
    "\n",
    "df.duplicated().any()"
   ]
  },
  {
   "cell_type": "markdown",
   "metadata": {},
   "source": [
    "### Ticket 2: Product Performance Analysis"
   ]
  },
  {
   "cell_type": "markdown",
   "metadata": {},
   "source": [
    "####  1. Statistics & Analysis:"
   ]
  },
  {
   "cell_type": "code",
   "execution_count": 185,
   "metadata": {},
   "outputs": [
    {
     "data": {
      "text/html": [
       "<div>\n",
       "<style scoped>\n",
       "    .dataframe tbody tr th:only-of-type {\n",
       "        vertical-align: middle;\n",
       "    }\n",
       "\n",
       "    .dataframe tbody tr th {\n",
       "        vertical-align: top;\n",
       "    }\n",
       "\n",
       "    .dataframe thead th {\n",
       "        text-align: right;\n",
       "    }\n",
       "</style>\n",
       "<table border=\"1\" class=\"dataframe\">\n",
       "  <thead>\n",
       "    <tr style=\"text-align: right;\">\n",
       "      <th></th>\n",
       "      <th>name</th>\n",
       "      <th>price</th>\n",
       "      <th>url</th>\n",
       "    </tr>\n",
       "  </thead>\n",
       "  <tbody>\n",
       "    <tr>\n",
       "      <th>0</th>\n",
       "      <td>DELLI Start Here Box</td>\n",
       "      <td>32.0</td>\n",
       "      <td>/products/delli-start-here-box</td>\n",
       "    </tr>\n",
       "    <tr>\n",
       "      <th>1</th>\n",
       "      <td>Nice And Spice Box</td>\n",
       "      <td>32.0</td>\n",
       "      <td>/products/the-nice-and-spice-box</td>\n",
       "    </tr>\n",
       "  </tbody>\n",
       "</table>\n",
       "</div>"
      ],
      "text/plain": [
       "                   name  price                               url\n",
       "0  DELLI Start Here Box   32.0    /products/delli-start-here-box\n",
       "1    Nice And Spice Box   32.0  /products/the-nice-and-spice-box"
      ]
     },
     "execution_count": 185,
     "metadata": {},
     "output_type": "execute_result"
    }
   ],
   "source": [
    "df.head(2)"
   ]
  },
  {
   "cell_type": "code",
   "execution_count": 186,
   "metadata": {},
   "outputs": [],
   "source": [
    "# convert price from USD to ZAR usign API "
   ]
  },
  {
   "cell_type": "code",
   "execution_count": 187,
   "metadata": {},
   "outputs": [
    {
     "data": {
      "text/html": [
       "<div>\n",
       "<style scoped>\n",
       "    .dataframe tbody tr th:only-of-type {\n",
       "        vertical-align: middle;\n",
       "    }\n",
       "\n",
       "    .dataframe tbody tr th {\n",
       "        vertical-align: top;\n",
       "    }\n",
       "\n",
       "    .dataframe thead th {\n",
       "        text-align: right;\n",
       "    }\n",
       "</style>\n",
       "<table border=\"1\" class=\"dataframe\">\n",
       "  <thead>\n",
       "    <tr style=\"text-align: right;\">\n",
       "      <th></th>\n",
       "      <th>price</th>\n",
       "    </tr>\n",
       "  </thead>\n",
       "  <tbody>\n",
       "    <tr>\n",
       "      <th>count</th>\n",
       "      <td>548.00</td>\n",
       "    </tr>\n",
       "    <tr>\n",
       "      <th>mean</th>\n",
       "      <td>8.84</td>\n",
       "    </tr>\n",
       "    <tr>\n",
       "      <th>std</th>\n",
       "      <td>10.06</td>\n",
       "    </tr>\n",
       "    <tr>\n",
       "      <th>min</th>\n",
       "      <td>0.00</td>\n",
       "    </tr>\n",
       "    <tr>\n",
       "      <th>25%</th>\n",
       "      <td>0.00</td>\n",
       "    </tr>\n",
       "    <tr>\n",
       "      <th>50%</th>\n",
       "      <td>6.20</td>\n",
       "    </tr>\n",
       "    <tr>\n",
       "      <th>75%</th>\n",
       "      <td>10.00</td>\n",
       "    </tr>\n",
       "    <tr>\n",
       "      <th>max</th>\n",
       "      <td>60.00</td>\n",
       "    </tr>\n",
       "  </tbody>\n",
       "</table>\n",
       "</div>"
      ],
      "text/plain": [
       "        price\n",
       "count  548.00\n",
       "mean     8.84\n",
       "std     10.06\n",
       "min      0.00\n",
       "25%      0.00\n",
       "50%      6.20\n",
       "75%     10.00\n",
       "max     60.00"
      ]
     },
     "execution_count": 187,
     "metadata": {},
     "output_type": "execute_result"
    }
   ],
   "source": [
    "df.describe().round(2)"
   ]
  },
  {
   "cell_type": "code",
   "execution_count": 188,
   "metadata": {},
   "outputs": [
    {
     "data": {
      "text/plain": [
       "name     Sober Curious Warmers Box\n",
       "price                         60.0\n",
       "Name: 472, dtype: object"
      ]
     },
     "execution_count": 188,
     "metadata": {},
     "output_type": "execute_result"
    }
   ],
   "source": [
    "# Determine the most expensive product\n",
    "\n",
    "Expensive_product = df.loc[df['price'].idxmax(), ['name','price']]\n",
    "Expensive_product"
   ]
  },
  {
   "cell_type": "code",
   "execution_count": 189,
   "metadata": {},
   "outputs": [],
   "source": [
    "# Determine the least expensive"
   ]
  },
  {
   "cell_type": "code",
   "execution_count": 190,
   "metadata": {},
   "outputs": [
    {
     "data": {
      "text/plain": [
       "name     Snacking Pickles\n",
       "price                 1.6\n",
       "Name: 8, dtype: object"
      ]
     },
     "execution_count": 190,
     "metadata": {},
     "output_type": "execute_result"
    }
   ],
   "source": [
    "# First filter for prices above 0, then find the minimum price thereafter\n",
    "\n",
    "filtered_df = df[df['price'] > 0]  \n",
    "\n",
    "cheap_product = filtered_df.loc[filtered_df['price'].idxmin(), ['name', 'price']]\n",
    "cheap_product"
   ]
  },
  {
   "cell_type": "code",
   "execution_count": 191,
   "metadata": {},
   "outputs": [
    {
     "data": {
      "text/plain": [
       "(548, 3)"
      ]
     },
     "execution_count": 191,
     "metadata": {},
     "output_type": "execute_result"
    }
   ],
   "source": [
    "df.shape"
   ]
  },
  {
   "cell_type": "code",
   "execution_count": 192,
   "metadata": {},
   "outputs": [],
   "source": [
    "# Determine category on price while excluding 0 values\n",
    "\n",
    "filtered_df = df[df['price'] > 0]\n",
    "\n",
    "median_price = filtered_df['price'].median()\n",
    "upper_quartile = filtered_df['price'].quantile(0.75)\n",
    "\n",
    "def categorize_price(price):\n",
    "    if price <= 0:  \n",
    "        return 'Invalid'\n",
    "    elif price < median_price:\n",
    "        return 'Ordinary'\n",
    "    elif price < upper_quartile:\n",
    "        return 'High'\n",
    "    else:\n",
    "        return 'Exclusive'\n",
    "\n",
    "df['category'] = df['price'].apply(categorize_price)\n"
   ]
  },
  {
   "cell_type": "code",
   "execution_count": 193,
   "metadata": {},
   "outputs": [],
   "source": [
    "# Determine Revenue in Exclusive category\n",
    "\n",
    "df['Exclusive_price'] = df.loc[df['category'] == 'Exclusive', 'price']\n",
    "df['Exclusive_price'] =  df['Exclusive_price'].fillna(0)"
   ]
  },
  {
   "cell_type": "code",
   "execution_count": 194,
   "metadata": {},
   "outputs": [],
   "source": [
    "# Determine Revenue in High Category\n",
    "\n",
    "df['High_price'] = df.loc[df['category'] == 'High', 'price']\n",
    "df['High_price'] = df['High_price'].fillna(0)"
   ]
  },
  {
   "cell_type": "code",
   "execution_count": 195,
   "metadata": {},
   "outputs": [],
   "source": [
    "# Deternine Revenue in Ordinary category\n",
    "df['Ordinary_price'] = df.loc[df['category'] == 'Ordinary', 'price']\n",
    "df['Ordinary_price'] = df['Ordinary_price'].fillna(0)"
   ]
  },
  {
   "cell_type": "code",
   "execution_count": 196,
   "metadata": {},
   "outputs": [
    {
     "data": {
      "text/html": [
       "<div>\n",
       "<style scoped>\n",
       "    .dataframe tbody tr th:only-of-type {\n",
       "        vertical-align: middle;\n",
       "    }\n",
       "\n",
       "    .dataframe tbody tr th {\n",
       "        vertical-align: top;\n",
       "    }\n",
       "\n",
       "    .dataframe thead th {\n",
       "        text-align: right;\n",
       "    }\n",
       "</style>\n",
       "<table border=\"1\" class=\"dataframe\">\n",
       "  <thead>\n",
       "    <tr style=\"text-align: right;\">\n",
       "      <th></th>\n",
       "      <th>total_items</th>\n",
       "      <th>total_revenue</th>\n",
       "    </tr>\n",
       "    <tr>\n",
       "      <th>category</th>\n",
       "      <th></th>\n",
       "      <th></th>\n",
       "    </tr>\n",
       "  </thead>\n",
       "  <tbody>\n",
       "    <tr>\n",
       "      <th>Exclusive</th>\n",
       "      <td>100</td>\n",
       "      <td>2697.34</td>\n",
       "    </tr>\n",
       "    <tr>\n",
       "      <th>High</th>\n",
       "      <td>107</td>\n",
       "      <td>1075.99</td>\n",
       "    </tr>\n",
       "    <tr>\n",
       "      <th>Invalid</th>\n",
       "      <td>150</td>\n",
       "      <td>0.00</td>\n",
       "    </tr>\n",
       "    <tr>\n",
       "      <th>Ordinary</th>\n",
       "      <td>191</td>\n",
       "      <td>1073.34</td>\n",
       "    </tr>\n",
       "  </tbody>\n",
       "</table>\n",
       "</div>"
      ],
      "text/plain": [
       "           total_items  total_revenue\n",
       "category                             \n",
       "Exclusive          100        2697.34\n",
       "High               107        1075.99\n",
       "Invalid            150           0.00\n",
       "Ordinary           191        1073.34"
      ]
     },
     "execution_count": 196,
     "metadata": {},
     "output_type": "execute_result"
    }
   ],
   "source": [
    "# Determine the total revene per category and number product items\n",
    "\n",
    "Category_analysis = df.groupby('category').agg(\n",
    "    total_items=('price', 'count'),\n",
    "    total_revenue=('price', 'sum')\n",
    ")\n",
    "Category_analysis"
   ]
  },
  {
   "cell_type": "code",
   "execution_count": 197,
   "metadata": {},
   "outputs": [],
   "source": [
    "# Determine Total revenue\n",
    "\n",
    "Total_revenue = df['price'].sum()\n"
   ]
  },
  {
   "cell_type": "code",
   "execution_count": 198,
   "metadata": {},
   "outputs": [
    {
     "data": {
      "text/plain": [
       "(548, 7)"
      ]
     },
     "execution_count": 198,
     "metadata": {},
     "output_type": "execute_result"
    }
   ],
   "source": [
    "df.shape"
   ]
  },
  {
   "cell_type": "markdown",
   "metadata": {},
   "source": [
    "#### 2. Visualizations:"
   ]
  },
  {
   "cell_type": "code",
   "execution_count": 199,
   "metadata": {},
   "outputs": [
    {
     "data": {
      "image/png": "[encoded data removed]",
      "text/plain": [
       "<Figure size 800x400 with 1 Axes>"
      ]
     },
     "metadata": {},
     "output_type": "display_data"
    }
   ],
   "source": [
    "# Determine price distribution\n",
    "\n",
    "price_counts = df['price']\n",
    "\n",
    "plt.figure(figsize=(8,4))\n",
    "price_counts.plot(kind='hist',bins=15,edgecolor='black')\n",
    "plt.xlabel('Price Distribution')\n",
    "plt.xlabel('Price Distribution', labelpad=20)\n",
    "plt.show()\n"
   ]
  },
  {
   "cell_type": "code",
   "execution_count": 200,
   "metadata": {},
   "outputs": [
    {
     "data": {
      "image/png": "[encoded data removed]",
      "text/plain": [
       "<Figure size 800x400 with 1 Axes>"
      ]
     },
     "metadata": {},
     "output_type": "display_data"
    }
   ],
   "source": [
    "# Determine price distribution by category\n",
    "\n",
    "plt.figure(figsize=(8,4))\n",
    "\n",
    "sns.boxplot(x='category', y='price', data=df, palette=['skyblue','lightgreen','salmon'])\n",
    "plt.title('Price Distribution by Category')\n",
    "plt.xlabel('Product Category', labelpad=20)\n",
    "plt.ylabel('Price')\n",
    "plt.show()"
   ]
  },
  {
   "cell_type": "code",
   "execution_count": 201,
   "metadata": {},
   "outputs": [
    {
     "data": {
      "image/png": "[encoded data removed]",
      "text/plain": [
       "<Figure size 800x400 with 1 Axes>"
      ]
     },
     "metadata": {},
     "output_type": "display_data"
    }
   ],
   "source": [
    "# Category analysis by class\n",
    "\n",
    "category = df['category'].value_counts()\n",
    "\n",
    "plt.figure(figsize=(8,4))\n",
    "category.plot(kind='bar',edgecolor='black')\n",
    "plt.ylabel('Frequency')\n",
    "plt.xlabel('Product Category')\n",
    "plt.xlabel('Product Category', labelpad=15)\n",
    "plt.xticks(rotation=45,ha='right')\n",
    "plt.show()"
   ]
  },
  {
   "cell_type": "code",
   "execution_count": 202,
   "metadata": {},
   "outputs": [
    {
     "data": {
      "text/html": [
       "<div>\n",
       "<style scoped>\n",
       "    .dataframe tbody tr th:only-of-type {\n",
       "        vertical-align: middle;\n",
       "    }\n",
       "\n",
       "    .dataframe tbody tr th {\n",
       "        vertical-align: top;\n",
       "    }\n",
       "\n",
       "    .dataframe thead th {\n",
       "        text-align: right;\n",
       "    }\n",
       "</style>\n",
       "<table border=\"1\" class=\"dataframe\">\n",
       "  <thead>\n",
       "    <tr style=\"text-align: right;\">\n",
       "      <th></th>\n",
       "      <th>category</th>\n",
       "      <th>price</th>\n",
       "    </tr>\n",
       "  </thead>\n",
       "  <tbody>\n",
       "    <tr>\n",
       "      <th>0</th>\n",
       "      <td>Exclusive</td>\n",
       "      <td>2697.34</td>\n",
       "    </tr>\n",
       "    <tr>\n",
       "      <th>1</th>\n",
       "      <td>High</td>\n",
       "      <td>1075.99</td>\n",
       "    </tr>\n",
       "    <tr>\n",
       "      <th>2</th>\n",
       "      <td>Invalid</td>\n",
       "      <td>0.00</td>\n",
       "    </tr>\n",
       "    <tr>\n",
       "      <th>3</th>\n",
       "      <td>Ordinary</td>\n",
       "      <td>1073.34</td>\n",
       "    </tr>\n",
       "  </tbody>\n",
       "</table>\n",
       "</div>"
      ],
      "text/plain": [
       "    category    price\n",
       "0  Exclusive  2697.34\n",
       "1       High  1075.99\n",
       "2    Invalid     0.00\n",
       "3   Ordinary  1073.34"
      ]
     },
     "execution_count": 202,
     "metadata": {},
     "output_type": "execute_result"
    }
   ],
   "source": [
    "# Revenue analysis by category\n",
    "\n",
    "revenue_category = df.groupby('category')['price'].sum().reset_index()\n",
    "revenue_category "
   ]
  },
  {
   "cell_type": "code",
   "execution_count": 203,
   "metadata": {},
   "outputs": [
    {
     "data": {
      "image/png": "[encoded data removed]",
      "text/plain": [
       "<Figure size 800x400 with 1 Axes>"
      ]
     },
     "metadata": {},
     "output_type": "display_data"
    }
   ],
   "source": [
    "# Category analysis by Revenue\n",
    "\n",
    "plt.figure(figsize=(8,4))\n",
    "sns.barplot(data=revenue_category, x='category', y='price',edgecolor='black')\n",
    "plt.title('Total Revenue by Category')\n",
    "plt.xlabel('Category')\n",
    "plt.xlabel('Category', labelpad=15)\n",
    "plt.xticks(rotation=45,ha='right')\n",
    "plt.ylabel('Total Revenue')\n",
    "plt.show()"
   ]
  },
  {
   "cell_type": "code",
   "execution_count": 204,
   "metadata": {},
   "outputs": [
    {
     "data": {
      "text/html": [
       "<div>\n",
       "<style scoped>\n",
       "    .dataframe tbody tr th:only-of-type {\n",
       "        vertical-align: middle;\n",
       "    }\n",
       "\n",
       "    .dataframe tbody tr th {\n",
       "        vertical-align: top;\n",
       "    }\n",
       "\n",
       "    .dataframe thead th {\n",
       "        text-align: right;\n",
       "    }\n",
       "</style>\n",
       "<table border=\"1\" class=\"dataframe\">\n",
       "  <thead>\n",
       "    <tr style=\"text-align: right;\">\n",
       "      <th></th>\n",
       "      <th>name</th>\n",
       "      <th>price</th>\n",
       "      <th>url</th>\n",
       "      <th>category</th>\n",
       "      <th>Exclusive_price</th>\n",
       "      <th>High_price</th>\n",
       "      <th>Ordinary_price</th>\n",
       "    </tr>\n",
       "  </thead>\n",
       "  <tbody>\n",
       "    <tr>\n",
       "      <th>0</th>\n",
       "      <td>DELLI Start Here Box</td>\n",
       "      <td>32.00</td>\n",
       "      <td>/products/delli-start-here-box</td>\n",
       "      <td>Exclusive</td>\n",
       "      <td>32.0</td>\n",
       "      <td>0.0</td>\n",
       "      <td>0.00</td>\n",
       "    </tr>\n",
       "    <tr>\n",
       "      <th>1</th>\n",
       "      <td>Nice And Spice Box</td>\n",
       "      <td>32.00</td>\n",
       "      <td>/products/the-nice-and-spice-box</td>\n",
       "      <td>Exclusive</td>\n",
       "      <td>32.0</td>\n",
       "      <td>0.0</td>\n",
       "      <td>0.00</td>\n",
       "    </tr>\n",
       "    <tr>\n",
       "      <th>2</th>\n",
       "      <td>Irn Bru &amp; Whisky Hot Sauce</td>\n",
       "      <td>6.95</td>\n",
       "      <td>/products/irn-bru-whisky-hot-sauce</td>\n",
       "      <td>Ordinary</td>\n",
       "      <td>0.0</td>\n",
       "      <td>0.0</td>\n",
       "      <td>6.95</td>\n",
       "    </tr>\n",
       "    <tr>\n",
       "      <th>3</th>\n",
       "      <td>Sugar, Spice &amp; All Things Nice Box</td>\n",
       "      <td>32.00</td>\n",
       "      <td>/products/sugar-spice-all-things-nice-box</td>\n",
       "      <td>Exclusive</td>\n",
       "      <td>32.0</td>\n",
       "      <td>0.0</td>\n",
       "      <td>0.00</td>\n",
       "    </tr>\n",
       "    <tr>\n",
       "      <th>4</th>\n",
       "      <td>Crispy Chicken Skin Sambal</td>\n",
       "      <td>9.50</td>\n",
       "      <td>/products/mirin-crispy-chicken-skin-sambal</td>\n",
       "      <td>High</td>\n",
       "      <td>0.0</td>\n",
       "      <td>9.5</td>\n",
       "      <td>0.00</td>\n",
       "    </tr>\n",
       "  </tbody>\n",
       "</table>\n",
       "</div>"
      ],
      "text/plain": [
       "                                 name  price  \\\n",
       "0                DELLI Start Here Box  32.00   \n",
       "1                  Nice And Spice Box  32.00   \n",
       "2          Irn Bru & Whisky Hot Sauce   6.95   \n",
       "3  Sugar, Spice & All Things Nice Box  32.00   \n",
       "4          Crispy Chicken Skin Sambal   9.50   \n",
       "\n",
       "                                          url   category  Exclusive_price  \\\n",
       "0              /products/delli-start-here-box  Exclusive             32.0   \n",
       "1            /products/the-nice-and-spice-box  Exclusive             32.0   \n",
       "2          /products/irn-bru-whisky-hot-sauce   Ordinary              0.0   \n",
       "3   /products/sugar-spice-all-things-nice-box  Exclusive             32.0   \n",
       "4  /products/mirin-crispy-chicken-skin-sambal       High              0.0   \n",
       "\n",
       "   High_price  Ordinary_price  \n",
       "0         0.0            0.00  \n",
       "1         0.0            0.00  \n",
       "2         0.0            6.95  \n",
       "3         0.0            0.00  \n",
       "4         9.5            0.00  "
      ]
     },
     "execution_count": 204,
     "metadata": {},
     "output_type": "execute_result"
    }
   ],
   "source": [
    "df.head()"
   ]
  },
  {
   "cell_type": "code",
   "execution_count": 216,
   "metadata": {},
   "outputs": [
    {
     "data": {
      "image/png": "[encoded data removed]",
      "text/plain": [
       "<Figure size 600x500 with 1 Axes>"
      ]
     },
     "metadata": {},
     "output_type": "display_data"
    }
   ],
   "source": [
    "# Determine category disribution by percentage\n",
    "category_counts = df['category'].value_counts()\n",
    "\n",
    "plt.figure(figsize=(6,5))\n",
    "plt.pie(x=category_counts.values, labels=category_counts.index, \n",
    "        autopct='%1.1f%%', startangle=140,wedgeprops={'edgecolor': 'black'})\n",
    "plt.title('Product Distribution by Category')\n",
    "plt.show()"
   ]
  },
  {
   "cell_type": "code",
   "execution_count": 221,
   "metadata": {},
   "outputs": [
    {
     "data": {
      "image/png": "[encoded data removed]",
      "text/plain": [
       "<Figure size 600x500 with 1 Axes>"
      ]
     },
     "metadata": {},
     "output_type": "display_data"
    }
   ],
   "source": [
    "# Determine category revenue by percentage\n",
    "\n",
    "revenue_category = df.groupby('category')['price'].sum().reset_index()\n",
    "\n",
    "plt.figure(figsize=(6,5))\n",
    "plt.pie(x=revenue_category['price'], labels=revenue_category['category'],\n",
    "        autopct='%1.1f%%', startangle=140,wedgeprops={'edgecolor': 'black'})\n",
    "plt.title('Product Distribution by Category')\n",
    "        \n",
    "plt.show()"
   ]
  },
  {
   "cell_type": "code",
   "execution_count": null,
   "metadata": {},
   "outputs": [],
   "source": []
  },
  {
   "cell_type": "code",
   "execution_count": null,
   "metadata": {},
   "outputs": [],
   "source": []
  }
 ],
 "metadata": {
  "kernelspec": {
   "display_name": "Python 3 (ipykernel)",
   "language": "python",
   "name": "python3"
  },
  "language_info": {
   "codemirror_mode": {
    "name": "ipython",
    "version": 3
   },
   "file_extension": ".py",
   "mimetype": "text/x-python",
   "name": "python",
   "nbconvert_exporter": "python",
   "pygments_lexer": "ipython3",
   "version": "3.11.5"
  }
 },
 "nbformat": 4,
 "nbformat_minor": 2
}
