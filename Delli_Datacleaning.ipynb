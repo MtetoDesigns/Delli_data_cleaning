{
 "cells": [
  {
   "cell_type": "markdown",
   "metadata": {},
   "source": [
    "### Ticket 1: Data Preparation & Cleaning"
   ]
  },
  {
   "cell_type": "code",
   "execution_count": 35,
   "metadata": {},
   "outputs": [],
   "source": [
    "# Load libraries\n",
    "\n",
    "import pandas as pd\n",
    "import seaborn as sns\n",
    "import matplotlib.pyplot as plt\n",
    "import requests\n",
    "import re"
   ]
  },
  {
   "cell_type": "code",
   "execution_count": 36,
   "metadata": {},
   "outputs": [],
   "source": [
    "# Import dataset\n",
    "\n",
    "path = r\"C:\\Users\\ntomb\\Desktop\\Scrappy-20250215T170650Z-001\\Scrappy\\Scraped_files\\Delli_products.csv\"\n",
    "delli_df = pd.read_csv(path)\n",
    "\n",
    "# Make a copy\n",
    "\n",
    "df = delli_df.copy()"
   ]
  },
  {
   "cell_type": "code",
   "execution_count": 37,
   "metadata": {},
   "outputs": [
    {
     "data": {
      "text/html": [
       "<div>\n",
       "<style scoped>\n",
       "    .dataframe tbody tr th:only-of-type {\n",
       "        vertical-align: middle;\n",
       "    }\n",
       "\n",
       "    .dataframe tbody tr th {\n",
       "        vertical-align: top;\n",
       "    }\n",
       "\n",
       "    .dataframe thead th {\n",
       "        text-align: right;\n",
       "    }\n",
       "</style>\n",
       "<table border=\"1\" class=\"dataframe\">\n",
       "  <thead>\n",
       "    <tr style=\"text-align: right;\">\n",
       "      <th></th>\n",
       "      <th>name</th>\n",
       "      <th>price</th>\n",
       "      <th>url</th>\n",
       "    </tr>\n",
       "  </thead>\n",
       "  <tbody>\n",
       "    <tr>\n",
       "      <th>0</th>\n",
       "      <td>DELLI 'Start Here' Box</td>\n",
       "      <td>£32.00</td>\n",
       "      <td>/products/delli-start-here-box</td>\n",
       "    </tr>\n",
       "    <tr>\n",
       "      <th>1</th>\n",
       "      <td>'Nice And Spice' Box</td>\n",
       "      <td>£32.00</td>\n",
       "      <td>/products/the-nice-and-spice-box</td>\n",
       "    </tr>\n",
       "    <tr>\n",
       "      <th>2</th>\n",
       "      <td>Irn Bru &amp; Whisky Hot Sauce</td>\n",
       "      <td>£6.95</td>\n",
       "      <td>/products/irn-bru-whisky-hot-sauce</td>\n",
       "    </tr>\n",
       "    <tr>\n",
       "      <th>3</th>\n",
       "      <td>'Sugar, Spice &amp; All Things Nice' Box</td>\n",
       "      <td>£32.00</td>\n",
       "      <td>/products/sugar-spice-all-things-nice-box</td>\n",
       "    </tr>\n",
       "    <tr>\n",
       "      <th>4</th>\n",
       "      <td>Crispy Chicken Skin Sambal</td>\n",
       "      <td>£9.50</td>\n",
       "      <td>/products/mirin-crispy-chicken-skin-sambal</td>\n",
       "    </tr>\n",
       "  </tbody>\n",
       "</table>\n",
       "</div>"
      ],
      "text/plain": [
       "                                   name   price  \\\n",
       "0                DELLI 'Start Here' Box  £32.00   \n",
       "1                  'Nice And Spice' Box  £32.00   \n",
       "2            Irn Bru & Whisky Hot Sauce   £6.95   \n",
       "3  'Sugar, Spice & All Things Nice' Box  £32.00   \n",
       "4            Crispy Chicken Skin Sambal   £9.50   \n",
       "\n",
       "                                          url  \n",
       "0              /products/delli-start-here-box  \n",
       "1            /products/the-nice-and-spice-box  \n",
       "2          /products/irn-bru-whisky-hot-sauce  \n",
       "3   /products/sugar-spice-all-things-nice-box  \n",
       "4  /products/mirin-crispy-chicken-skin-sambal  "
      ]
     },
     "execution_count": 37,
     "metadata": {},
     "output_type": "execute_result"
    }
   ],
   "source": [
    "# Determine the first 5 itm on the dataframe\n",
    "\n",
    "df.head()"
   ]
  },
  {
   "cell_type": "code",
   "execution_count": 38,
   "metadata": {},
   "outputs": [
    {
     "data": {
      "text/plain": [
       "(610, 3)"
      ]
     },
     "execution_count": 38,
     "metadata": {},
     "output_type": "execute_result"
    }
   ],
   "source": [
    "# Determine the total number of rows and colums\n",
    "\n",
    "df.shape"
   ]
  },
  {
   "cell_type": "code",
   "execution_count": 39,
   "metadata": {},
   "outputs": [
    {
     "data": {
      "text/plain": [
       "0                  DELLI Start Here Box\n",
       "1                    Nice And Spice Box\n",
       "2            Irn Bru & Whisky Hot Sauce\n",
       "3    Sugar, Spice & All Things Nice Box\n",
       "4            Crispy Chicken Skin Sambal\n",
       "Name: name, dtype: object"
      ]
     },
     "execution_count": 39,
     "metadata": {},
     "output_type": "execute_result"
    }
   ],
   "source": [
    "# Clean trailing whitespace and qoutes\n",
    "\n",
    "df['name'] = df['name'].str.replace('[\\'\"]', '', regex=True).str.strip()\n",
    "df['name'].head()"
   ]
  },
  {
   "cell_type": "code",
   "execution_count": 40,
   "metadata": {},
   "outputs": [
    {
     "data": {
      "text/plain": [
       "0    32.00\n",
       "1    32.00\n",
       "2     6.95\n",
       "3    32.00\n",
       "4     9.50\n",
       "Name: price, dtype: object"
      ]
     },
     "execution_count": 40,
     "metadata": {},
     "output_type": "execute_result"
    }
   ],
   "source": [
    "# Remove £ on price and trailing whitespace\n",
    "\n",
    "df['price'] = df['price'].replace('£', '', regex=True).str.strip()\n",
    "df['price'].head()"
   ]
  },
  {
   "cell_type": "code",
   "execution_count": 41,
   "metadata": {},
   "outputs": [
    {
     "name": "stdout",
     "output_type": "stream",
     "text": [
      "<class 'pandas.core.frame.DataFrame'>\n",
      "RangeIndex: 610 entries, 0 to 609\n",
      "Data columns (total 3 columns):\n",
      " #   Column  Non-Null Count  Dtype \n",
      "---  ------  --------------  ----- \n",
      " 0   name    610 non-null    object\n",
      " 1   price   443 non-null    object\n",
      " 2   url     610 non-null    object\n",
      "dtypes: object(3)\n",
      "memory usage: 14.4+ KB\n"
     ]
    }
   ],
   "source": [
    "#  Determine Data type\n",
    "\n",
    "df.info()"
   ]
  },
  {
   "cell_type": "code",
   "execution_count": 42,
   "metadata": {},
   "outputs": [
    {
     "name": "stdout",
     "output_type": "stream",
     "text": [
      "<class 'pandas.core.frame.DataFrame'>\n",
      "RangeIndex: 610 entries, 0 to 609\n",
      "Data columns (total 3 columns):\n",
      " #   Column  Non-Null Count  Dtype  \n",
      "---  ------  --------------  -----  \n",
      " 0   name    610 non-null    object \n",
      " 1   price   443 non-null    float64\n",
      " 2   url     610 non-null    object \n",
      "dtypes: float64(1), object(2)\n",
      "memory usage: 14.4+ KB\n"
     ]
    }
   ],
   "source": [
    "# Convert price to nemeric for data analysis\n",
    "\n",
    "df['price'] = pd.to_numeric(df['price'], errors='coerce')\n",
    "df.info()\n"
   ]
  },
  {
   "cell_type": "code",
   "execution_count": 43,
   "metadata": {},
   "outputs": [
    {
     "data": {
      "text/plain": [
       "name       0\n",
       "price    167\n",
       "url        0\n",
       "dtype: int64"
      ]
     },
     "execution_count": 43,
     "metadata": {},
     "output_type": "execute_result"
    }
   ],
   "source": [
    "# Determine if there are NaN values\n",
    "df.isna().sum()"
   ]
  },
  {
   "cell_type": "code",
   "execution_count": 44,
   "metadata": {},
   "outputs": [
    {
     "data": {
      "text/plain": [
       "name     0\n",
       "price    0\n",
       "url      0\n",
       "dtype: int64"
      ]
     },
     "execution_count": 44,
     "metadata": {},
     "output_type": "execute_result"
    }
   ],
   "source": [
    "# Fill NaN values with 0\n",
    "\n",
    "df['price'] =  df['price'].fillna(0)\n",
    "\n",
    "# confirm the results\n",
    "df.isna().sum()\n"
   ]
  },
  {
   "cell_type": "code",
   "execution_count": 45,
   "metadata": {},
   "outputs": [
    {
     "data": {
      "text/plain": [
       "np.False_"
      ]
     },
     "execution_count": 45,
     "metadata": {},
     "output_type": "execute_result"
    }
   ],
   "source": [
    "# Check for duplicate column (There are 3 columns)\n",
    "# This check is deemed not necessary for columns that are are easily identifiable\n",
    "\n",
    "df.T.duplicated().any()"
   ]
  },
  {
   "cell_type": "code",
   "execution_count": 46,
   "metadata": {},
   "outputs": [
    {
     "data": {
      "text/plain": [
       "np.True_"
      ]
     },
     "execution_count": 46,
     "metadata": {},
     "output_type": "execute_result"
    }
   ],
   "source": [
    "# Check for duplicate rows\n",
    "\n",
    "df.duplicated().any()"
   ]
  },
  {
   "cell_type": "code",
   "execution_count": 47,
   "metadata": {},
   "outputs": [
    {
     "data": {
      "text/plain": [
       "np.int64(59)"
      ]
     },
     "execution_count": 47,
     "metadata": {},
     "output_type": "execute_result"
    }
   ],
   "source": [
    "# Find the number duplicated rows\n",
    "\n",
    "df.duplicated().sum()"
   ]
  },
  {
   "cell_type": "code",
   "execution_count": 48,
   "metadata": {},
   "outputs": [
    {
     "data": {
      "text/html": [
       "<div>\n",
       "<style scoped>\n",
       "    .dataframe tbody tr th:only-of-type {\n",
       "        vertical-align: middle;\n",
       "    }\n",
       "\n",
       "    .dataframe tbody tr th {\n",
       "        vertical-align: top;\n",
       "    }\n",
       "\n",
       "    .dataframe thead th {\n",
       "        text-align: right;\n",
       "    }\n",
       "</style>\n",
       "<table border=\"1\" class=\"dataframe\">\n",
       "  <thead>\n",
       "    <tr style=\"text-align: right;\">\n",
       "      <th></th>\n",
       "      <th>name</th>\n",
       "      <th>price</th>\n",
       "    </tr>\n",
       "  </thead>\n",
       "  <tbody>\n",
       "    <tr>\n",
       "      <th>0</th>\n",
       "      <td>DELLI Start Here Box</td>\n",
       "      <td>32.00</td>\n",
       "    </tr>\n",
       "    <tr>\n",
       "      <th>1</th>\n",
       "      <td>Nice And Spice Box</td>\n",
       "      <td>32.00</td>\n",
       "    </tr>\n",
       "    <tr>\n",
       "      <th>2</th>\n",
       "      <td>Irn Bru &amp; Whisky Hot Sauce</td>\n",
       "      <td>6.95</td>\n",
       "    </tr>\n",
       "    <tr>\n",
       "      <th>4</th>\n",
       "      <td>Crispy Chicken Skin Sambal</td>\n",
       "      <td>9.50</td>\n",
       "    </tr>\n",
       "    <tr>\n",
       "      <th>6</th>\n",
       "      <td>Chilli Vinegar Dressing</td>\n",
       "      <td>7.80</td>\n",
       "    </tr>\n",
       "    <tr>\n",
       "      <th>...</th>\n",
       "      <td>...</td>\n",
       "      <td>...</td>\n",
       "    </tr>\n",
       "    <tr>\n",
       "      <th>570</th>\n",
       "      <td>When The Fish Came To Shore (Greek Cookbook) *...</td>\n",
       "      <td>25.00</td>\n",
       "    </tr>\n",
       "    <tr>\n",
       "      <th>573</th>\n",
       "      <td>Uno Mag Tomatoes (Cookbook-Magazine)</td>\n",
       "      <td>18.00</td>\n",
       "    </tr>\n",
       "    <tr>\n",
       "      <th>592</th>\n",
       "      <td>Uno Mag Tomatoes (Cookbook-Magazine)</td>\n",
       "      <td>18.00</td>\n",
       "    </tr>\n",
       "    <tr>\n",
       "      <th>595</th>\n",
       "      <td>When The Fish Came To Shore (Greek Cookbook) *...</td>\n",
       "      <td>25.00</td>\n",
       "    </tr>\n",
       "    <tr>\n",
       "      <th>606</th>\n",
       "      <td>‘Everyday Singapore Box, by Shu Han Lee</td>\n",
       "      <td>0.00</td>\n",
       "    </tr>\n",
       "  </tbody>\n",
       "</table>\n",
       "<p>112 rows × 2 columns</p>\n",
       "</div>"
      ],
      "text/plain": [
       "                                                  name  price\n",
       "0                                 DELLI Start Here Box  32.00\n",
       "1                                   Nice And Spice Box  32.00\n",
       "2                           Irn Bru & Whisky Hot Sauce   6.95\n",
       "4                           Crispy Chicken Skin Sambal   9.50\n",
       "6                              Chilli Vinegar Dressing   7.80\n",
       "..                                                 ...    ...\n",
       "570  When The Fish Came To Shore (Greek Cookbook) *...  25.00\n",
       "573               Uno Mag Tomatoes (Cookbook-Magazine)  18.00\n",
       "592               Uno Mag Tomatoes (Cookbook-Magazine)  18.00\n",
       "595  When The Fish Came To Shore (Greek Cookbook) *...  25.00\n",
       "606            ‘Everyday Singapore Box, by Shu Han Lee   0.00\n",
       "\n",
       "[112 rows x 2 columns]"
      ]
     },
     "execution_count": 48,
     "metadata": {},
     "output_type": "execute_result"
    }
   ],
   "source": [
    "# Display duplicated rows for name & price\n",
    "\n",
    "df.loc[df.duplicated(keep=False), ['name','price']]"
   ]
  },
  {
   "cell_type": "code",
   "execution_count": 49,
   "metadata": {},
   "outputs": [
    {
     "data": {
      "text/plain": [
       "np.False_"
      ]
     },
     "execution_count": 49,
     "metadata": {},
     "output_type": "execute_result"
    }
   ],
   "source": [
    "\n",
    "# Remove duplicated rows\n",
    "\n",
    "def remove_duplicated_rows(df):\n",
    "    duplicated_rows = df.drop_duplicates(subset=['name'], keep='first')\n",
    "    return duplicated_rows\n",
    "\n",
    "df = remove_duplicated_rows(df)\n",
    "\n",
    "# Check duplicated rows if still exist\n",
    "\n",
    "df.duplicated().any()"
   ]
  },
  {
   "cell_type": "markdown",
   "metadata": {},
   "source": [
    "### Ticket 2: Product Performance Analysis"
   ]
  },
  {
   "cell_type": "markdown",
   "metadata": {},
   "source": [
    "####  1. Statistics & Analysis:"
   ]
  },
  {
   "cell_type": "code",
   "execution_count": 50,
   "metadata": {},
   "outputs": [],
   "source": [
    "# convert price from UK pound to ZAR using API "
   ]
  },
  {
   "cell_type": "code",
   "execution_count": 51,
   "metadata": {},
   "outputs": [
    {
     "data": {
      "text/html": [
       "<div>\n",
       "<style scoped>\n",
       "    .dataframe tbody tr th:only-of-type {\n",
       "        vertical-align: middle;\n",
       "    }\n",
       "\n",
       "    .dataframe tbody tr th {\n",
       "        vertical-align: top;\n",
       "    }\n",
       "\n",
       "    .dataframe thead th {\n",
       "        text-align: right;\n",
       "    }\n",
       "</style>\n",
       "<table border=\"1\" class=\"dataframe\">\n",
       "  <thead>\n",
       "    <tr style=\"text-align: right;\">\n",
       "      <th></th>\n",
       "      <th>price</th>\n",
       "    </tr>\n",
       "  </thead>\n",
       "  <tbody>\n",
       "    <tr>\n",
       "      <th>count</th>\n",
       "      <td>548.00</td>\n",
       "    </tr>\n",
       "    <tr>\n",
       "      <th>mean</th>\n",
       "      <td>8.84</td>\n",
       "    </tr>\n",
       "    <tr>\n",
       "      <th>std</th>\n",
       "      <td>10.06</td>\n",
       "    </tr>\n",
       "    <tr>\n",
       "      <th>min</th>\n",
       "      <td>0.00</td>\n",
       "    </tr>\n",
       "    <tr>\n",
       "      <th>25%</th>\n",
       "      <td>0.00</td>\n",
       "    </tr>\n",
       "    <tr>\n",
       "      <th>50%</th>\n",
       "      <td>6.20</td>\n",
       "    </tr>\n",
       "    <tr>\n",
       "      <th>75%</th>\n",
       "      <td>10.00</td>\n",
       "    </tr>\n",
       "    <tr>\n",
       "      <th>max</th>\n",
       "      <td>60.00</td>\n",
       "    </tr>\n",
       "  </tbody>\n",
       "</table>\n",
       "</div>"
      ],
      "text/plain": [
       "        price\n",
       "count  548.00\n",
       "mean     8.84\n",
       "std     10.06\n",
       "min      0.00\n",
       "25%      0.00\n",
       "50%      6.20\n",
       "75%     10.00\n",
       "max     60.00"
      ]
     },
     "execution_count": 51,
     "metadata": {},
     "output_type": "execute_result"
    }
   ],
   "source": [
    "df.describe().round(2)"
   ]
  },
  {
   "cell_type": "code",
   "execution_count": 52,
   "metadata": {},
   "outputs": [
    {
     "data": {
      "text/plain": [
       "name     Sober Curious Warmers Box\n",
       "price                         60.0\n",
       "Name: 472, dtype: object"
      ]
     },
     "execution_count": 52,
     "metadata": {},
     "output_type": "execute_result"
    }
   ],
   "source": [
    "# Determine the most expensive product\n",
    "\n",
    "Expensive_product = df.loc[df['price'].idxmax(), ['name','price']]\n",
    "Expensive_product"
   ]
  },
  {
   "cell_type": "code",
   "execution_count": 53,
   "metadata": {},
   "outputs": [
    {
     "data": {
      "text/plain": [
       "name     Snacking Pickles\n",
       "price                 1.6\n",
       "Name: 8, dtype: object"
      ]
     },
     "execution_count": 53,
     "metadata": {},
     "output_type": "execute_result"
    }
   ],
   "source": [
    "# Filter for prices above 0; thereafter find the minimum price thereafter\n",
    "\n",
    "filtered_df = df[df['price'] > 0]  \n",
    "\n",
    "# Determine the least expensive product\n",
    "\n",
    "cheap_product = filtered_df.loc[filtered_df['price'].idxmin(), ['name', 'price']]\n",
    "cheap_product"
   ]
  },
  {
   "cell_type": "code",
   "execution_count": 54,
   "metadata": {},
   "outputs": [],
   "source": [
    "# Determine product price by category\n",
    "\n",
    "filtered_df = df[df['price'] > 0]\n",
    "\n",
    "median_price = filtered_df['price'].median()\n",
    "upper_quartile = filtered_df['price'].quantile(0.75)\n",
    "\n",
    "def categorize_price(price):\n",
    "    if price <= 0:  \n",
    "        return 'Invalid'\n",
    "    elif price < median_price:\n",
    "        return 'Ordinary'\n",
    "    elif price < upper_quartile:\n",
    "        return 'High'\n",
    "    else:\n",
    "        return 'Exclusive'\n",
    "\n",
    "df['category'] = df['price'].apply(categorize_price)\n"
   ]
  },
  {
   "cell_type": "code",
   "execution_count": 55,
   "metadata": {},
   "outputs": [],
   "source": [
    "# Extract price for Exclusive category\n",
    "\n",
    "df['Exclusive_price'] = df.loc[df['category'] == 'Exclusive', 'price']\n",
    "df['Exclusive_price'] =  df['Exclusive_price'].fillna(0)"
   ]
  },
  {
   "cell_type": "code",
   "execution_count": 56,
   "metadata": {},
   "outputs": [],
   "source": [
    "# Extract price for High Category\n",
    "\n",
    "df['High_price'] = df.loc[df['category'] == 'High', 'price']\n",
    "df['High_price'] = df['High_price'].fillna(0)"
   ]
  },
  {
   "cell_type": "code",
   "execution_count": 57,
   "metadata": {},
   "outputs": [],
   "source": [
    "# Extract price for Ordinary category\n",
    "df['Ordinary_price'] = df.loc[df['category'] == 'Ordinary', 'price']\n",
    "df['Ordinary_price'] = df['Ordinary_price'].fillna(0)"
   ]
  },
  {
   "cell_type": "code",
   "execution_count": 58,
   "metadata": {},
   "outputs": [
    {
     "data": {
      "text/html": [
       "<div>\n",
       "<style scoped>\n",
       "    .dataframe tbody tr th:only-of-type {\n",
       "        vertical-align: middle;\n",
       "    }\n",
       "\n",
       "    .dataframe tbody tr th {\n",
       "        vertical-align: top;\n",
       "    }\n",
       "\n",
       "    .dataframe thead th {\n",
       "        text-align: right;\n",
       "    }\n",
       "</style>\n",
       "<table border=\"1\" class=\"dataframe\">\n",
       "  <thead>\n",
       "    <tr style=\"text-align: right;\">\n",
       "      <th></th>\n",
       "      <th>total_items</th>\n",
       "      <th>total_revenue</th>\n",
       "    </tr>\n",
       "    <tr>\n",
       "      <th>category</th>\n",
       "      <th></th>\n",
       "      <th></th>\n",
       "    </tr>\n",
       "  </thead>\n",
       "  <tbody>\n",
       "    <tr>\n",
       "      <th>Exclusive</th>\n",
       "      <td>100</td>\n",
       "      <td>2697.34</td>\n",
       "    </tr>\n",
       "    <tr>\n",
       "      <th>High</th>\n",
       "      <td>107</td>\n",
       "      <td>1075.99</td>\n",
       "    </tr>\n",
       "    <tr>\n",
       "      <th>Invalid</th>\n",
       "      <td>150</td>\n",
       "      <td>0.00</td>\n",
       "    </tr>\n",
       "    <tr>\n",
       "      <th>Ordinary</th>\n",
       "      <td>191</td>\n",
       "      <td>1073.34</td>\n",
       "    </tr>\n",
       "  </tbody>\n",
       "</table>\n",
       "</div>"
      ],
      "text/plain": [
       "           total_items  total_revenue\n",
       "category                             \n",
       "Exclusive          100        2697.34\n",
       "High               107        1075.99\n",
       "Invalid            150           0.00\n",
       "Ordinary           191        1073.34"
      ]
     },
     "execution_count": 58,
     "metadata": {},
     "output_type": "execute_result"
    }
   ],
   "source": [
    "# Determine total items per category & total revenue\n",
    "\n",
    "Category_analysis = df.groupby('category').agg(\n",
    "    total_items=('price', 'count'),\n",
    "    total_revenue=('price', 'sum')\n",
    ")\n",
    "Category_analysis"
   ]
  },
  {
   "cell_type": "code",
   "execution_count": 59,
   "metadata": {},
   "outputs": [
    {
     "data": {
      "text/plain": [
       "np.float64(4846.67)"
      ]
     },
     "execution_count": 59,
     "metadata": {},
     "output_type": "execute_result"
    }
   ],
   "source": [
    "# Determine Total revenue\n",
    "\n",
    "Total_revenue = df['price'].sum()\n",
    "Total_revenue "
   ]
  },
  {
   "cell_type": "code",
   "execution_count": 60,
   "metadata": {},
   "outputs": [
    {
     "data": {
      "text/plain": [
       "(548, 7)"
      ]
     },
     "execution_count": 60,
     "metadata": {},
     "output_type": "execute_result"
    }
   ],
   "source": [
    "# Determine number of rows and columns\n",
    "df.shape"
   ]
  },
  {
   "cell_type": "markdown",
   "metadata": {},
   "source": [
    "#### 2. Visualizations:"
   ]
  },
  {
   "cell_type": "code",
   "execution_count": 61,
   "metadata": {},
   "outputs": [
    {
     "data": {
      "image/png": "[encoded data removed]",
      "text/plain": [
       "<Figure size 800x400 with 1 Axes>"
      ]
     },
     "metadata": {},
     "output_type": "display_data"
    }
   ],
   "source": [
    "# Determine price distribution\n",
    "\n",
    "price_counts = df['price']\n",
    "\n",
    "plt.figure(figsize=(8,4))\n",
    "price_counts.plot(kind='hist',bins=15,edgecolor='black')\n",
    "plt.xlabel('Price Distribution')\n",
    "plt.xlabel('Price Distribution', labelpad=20)\n",
    "plt.show()\n"
   ]
  },
  {
   "cell_type": "code",
   "execution_count": 62,
   "metadata": {},
   "outputs": [
    {
     "data": {
      "image/png": "[encoded data removed]",
      "text/plain": [
       "<Figure size 800x400 with 1 Axes>"
      ]
     },
     "metadata": {},
     "output_type": "display_data"
    }
   ],
   "source": [
    "# Determine price distribution by category\n",
    "\n",
    "plt.figure(figsize=(8,4))\n",
    "\n",
    "sns.boxplot(\n",
    "    data=df,\n",
    "    x='category',\n",
    "    y='price',\n",
    "    hue='category',          \n",
    "    palette=['skyblue','lightgreen','salmon','orange'],  \n",
    "    dodge=False,             \n",
    "    legend=False           \n",
    ")\n",
    "plt.title('Price Distribution by Category')\n",
    "plt.xlabel('Category', labelpad=20)\n",
    "plt.ylabel('Price')\n",
    "plt.show()"
   ]
  },
  {
   "cell_type": "code",
   "execution_count": 63,
   "metadata": {},
   "outputs": [
    {
     "data": {
      "image/png": "[encoded data removed]",
      "text/plain": [
       "<Figure size 800x400 with 1 Axes>"
      ]
     },
     "metadata": {},
     "output_type": "display_data"
    }
   ],
   "source": [
    "# Category analysis by class\n",
    "\n",
    "category = df['category'].value_counts()\n",
    "\n",
    "plt.figure(figsize=(8,4))\n",
    "category.plot(kind='bar',edgecolor='black')\n",
    "plt.ylabel('Frequency')\n",
    "plt.xlabel('Product Category')\n",
    "plt.xlabel('Product Category', labelpad=15)\n",
    "plt.xticks(rotation=45,ha='right')\n",
    "plt.show()"
   ]
  },
  {
   "cell_type": "code",
   "execution_count": 64,
   "metadata": {},
   "outputs": [
    {
     "data": {
      "text/html": [
       "<div>\n",
       "<style scoped>\n",
       "    .dataframe tbody tr th:only-of-type {\n",
       "        vertical-align: middle;\n",
       "    }\n",
       "\n",
       "    .dataframe tbody tr th {\n",
       "        vertical-align: top;\n",
       "    }\n",
       "\n",
       "    .dataframe thead th {\n",
       "        text-align: right;\n",
       "    }\n",
       "</style>\n",
       "<table border=\"1\" class=\"dataframe\">\n",
       "  <thead>\n",
       "    <tr style=\"text-align: right;\">\n",
       "      <th></th>\n",
       "      <th>category</th>\n",
       "      <th>price</th>\n",
       "    </tr>\n",
       "  </thead>\n",
       "  <tbody>\n",
       "    <tr>\n",
       "      <th>0</th>\n",
       "      <td>Exclusive</td>\n",
       "      <td>2697.34</td>\n",
       "    </tr>\n",
       "    <tr>\n",
       "      <th>1</th>\n",
       "      <td>High</td>\n",
       "      <td>1075.99</td>\n",
       "    </tr>\n",
       "    <tr>\n",
       "      <th>2</th>\n",
       "      <td>Invalid</td>\n",
       "      <td>0.00</td>\n",
       "    </tr>\n",
       "    <tr>\n",
       "      <th>3</th>\n",
       "      <td>Ordinary</td>\n",
       "      <td>1073.34</td>\n",
       "    </tr>\n",
       "  </tbody>\n",
       "</table>\n",
       "</div>"
      ],
      "text/plain": [
       "    category    price\n",
       "0  Exclusive  2697.34\n",
       "1       High  1075.99\n",
       "2    Invalid     0.00\n",
       "3   Ordinary  1073.34"
      ]
     },
     "execution_count": 64,
     "metadata": {},
     "output_type": "execute_result"
    }
   ],
   "source": [
    "# Revenue analysis by category\n",
    "\n",
    "revenue_category = df.groupby('category')['price'].sum().reset_index()\n",
    "revenue_category "
   ]
  },
  {
   "cell_type": "code",
   "execution_count": 65,
   "metadata": {},
   "outputs": [
    {
     "data": {
      "image/png": "[encoded data removed]",
      "text/plain": [
       "<Figure size 800x400 with 1 Axes>"
      ]
     },
     "metadata": {},
     "output_type": "display_data"
    }
   ],
   "source": [
    "# Category analysis by Revenue\n",
    "\n",
    "plt.figure(figsize=(8,4))\n",
    "sns.barplot(data=revenue_category, x='category', y='price',edgecolor='black')\n",
    "plt.title('Total Revenue by Category')\n",
    "plt.xlabel('Category')\n",
    "plt.xlabel('Category', labelpad=15)\n",
    "plt.xticks(rotation=45,ha='right')\n",
    "plt.ylabel('Total Revenue')\n",
    "plt.show()"
   ]
  },
  {
   "cell_type": "code",
   "execution_count": 66,
   "metadata": {},
   "outputs": [
    {
     "data": {
      "image/png": "[encoded data removed]",
      "text/plain": [
       "<Figure size 600x500 with 1 Axes>"
      ]
     },
     "metadata": {},
     "output_type": "display_data"
    }
   ],
   "source": [
    "# Determine category disribution by percentage\n",
    "\n",
    "category_counts = df['category'].value_counts()\n",
    "\n",
    "plt.figure(figsize=(6,5))\n",
    "plt.pie(x=category_counts.values, labels=category_counts.index, \n",
    "        autopct='%1.1f%%', startangle=140,wedgeprops={'edgecolor': 'black'})\n",
    "plt.title('Product Distribution by Category')\n",
    "plt.show()"
   ]
  },
  {
   "cell_type": "code",
   "execution_count": 67,
   "metadata": {},
   "outputs": [
    {
     "data": {
      "image/png": "[encoded data removed]",
      "text/plain": [
       "<Figure size 600x500 with 1 Axes>"
      ]
     },
     "metadata": {},
     "output_type": "display_data"
    }
   ],
   "source": [
    "# Determine category revenue by percentage\n",
    "\n",
    "revenue_category = df.groupby('category')['price'].sum().reset_index()\n",
    "\n",
    "plt.figure(figsize=(6,5))\n",
    "plt.pie(x=revenue_category['price'], labels=revenue_category['category'],\n",
    "        autopct='%1.1f%%', startangle=140,wedgeprops={'edgecolor': 'black'})\n",
    "plt.title('Revenue Distribution by Category')\n",
    "        \n",
    "plt.show()"
   ]
  },
  {
   "cell_type": "code",
   "execution_count": null,
   "metadata": {},
   "outputs": [],
   "source": []
  },
  {
   "cell_type": "code",
   "execution_count": null,
   "metadata": {},
   "outputs": [],
   "source": []
  }
 ],
 "metadata": {
  "kernelspec": {
   "display_name": "venv",
   "language": "python",
   "name": "python3"
  },
  "language_info": {
   "codemirror_mode": {
    "name": "ipython",
    "version": 3
   },
   "file_extension": ".py",
   "mimetype": "text/x-python",
   "name": "python",
   "nbconvert_exporter": "python",
   "pygments_lexer": "ipython3",
   "version": "3.12.0"
  }
 },
 "nbformat": 4,
 "nbformat_minor": 2
}
